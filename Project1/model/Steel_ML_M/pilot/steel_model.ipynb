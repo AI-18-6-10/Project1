{
 "cells": [
  {
   "cell_type": "code",
   "execution_count": 269,
   "metadata": {},
   "outputs": [
    {
     "name": "stdout",
     "output_type": "stream",
     "text": [
      "Current directory: /Users/seongjinhyeon/Desktop/Project1/model/steel_model/1st\n"
     ]
    }
   ],
   "source": [
    "import os\n",
    "\n",
    "current_dir = os.getcwd()\n",
    "print(\"Current directory:\", current_dir)"
   ]
  },
  {
   "cell_type": "code",
   "execution_count": 270,
   "metadata": {},
   "outputs": [],
   "source": [
    "import pandas as pd\n",
    "import seaborn as sns\n",
    "import matplotlib.pyplot as plt\n",
    "import numpy as np\n",
    "\n",
    "from sklearn.preprocessing import StandardScaler, MinMaxScaler\n",
    "from sklearn.decomposition import PCA\n",
    "\n",
    "from sklearn.model_selection import train_test_split\n",
    "from sklearn.metrics import make_scorer, accuracy_score\n",
    "from sklearn.metrics import recall_score, precision_score, f1_score\n",
    "from sklearn.preprocessing import LabelEncoder\n",
    "from sklearn.ensemble import RandomForestClassifier\n",
    "from sklearn.pipeline import make_pipeline\n",
    "from sklearn.model_selection import cross_val_score\n",
    "from sklearn.metrics import roc_auc_score\n",
    "from sklearn.inspection import permutation_importance\n",
    "from xgboost import XGBClassifier\n",
    "from sklearn.linear_model import LogisticRegression\n",
    "from sklearn.model_selection import cross_validate\n",
    "\n",
    "# 업샘플링에 사용되는 라이브러리\n",
    "from imblearn.over_sampling import ADASYN"
   ]
  },
  {
   "cell_type": "code",
   "execution_count": 271,
   "metadata": {},
   "outputs": [
    {
     "data": {
      "text/html": [
       "<div>\n",
       "<style scoped>\n",
       "    .dataframe tbody tr th:only-of-type {\n",
       "        vertical-align: middle;\n",
       "    }\n",
       "\n",
       "    .dataframe tbody tr th {\n",
       "        vertical-align: top;\n",
       "    }\n",
       "\n",
       "    .dataframe thead th {\n",
       "        text-align: right;\n",
       "    }\n",
       "</style>\n",
       "<table border=\"1\" class=\"dataframe\">\n",
       "  <thead>\n",
       "    <tr style=\"text-align: right;\">\n",
       "      <th></th>\n",
       "      <th>X_Minimum</th>\n",
       "      <th>X_Maximum</th>\n",
       "      <th>Y_Minimum</th>\n",
       "      <th>Y_Maximum</th>\n",
       "      <th>Pixels_Areas</th>\n",
       "      <th>X_Perimeter</th>\n",
       "      <th>Y_Perimeter</th>\n",
       "      <th>Sum_of_Luminosity</th>\n",
       "      <th>Minimum_of_Luminosity</th>\n",
       "      <th>Maximum_of_Luminosity</th>\n",
       "      <th>Length_of_Conveyer</th>\n",
       "      <th>TypeOfSteel_A300</th>\n",
       "      <th>TypeOfSteel_A400</th>\n",
       "      <th>Steel_Plate_Thickness</th>\n",
       "      <th>Edges_Index</th>\n",
       "      <th>Empty_Index</th>\n",
       "      <th>Square_Index</th>\n",
       "      <th>Outside_X_Index</th>\n",
       "      <th>Edges_X_Index</th>\n",
       "      <th>Edges_Y_Index</th>\n",
       "      <th>Outside_Global_Index</th>\n",
       "      <th>LogOfAreas</th>\n",
       "      <th>Log_X_Index</th>\n",
       "      <th>Log_Y_Index</th>\n",
       "      <th>Orientation_Index</th>\n",
       "      <th>Luminosity_Index</th>\n",
       "      <th>SigmoidOfAreas</th>\n",
       "      <th>Pastry</th>\n",
       "      <th>Z_Scratch</th>\n",
       "      <th>K_Scatch</th>\n",
       "      <th>Stains</th>\n",
       "      <th>Dirtiness</th>\n",
       "      <th>Bumps</th>\n",
       "      <th>Other_Faults</th>\n",
       "    </tr>\n",
       "  </thead>\n",
       "  <tbody>\n",
       "    <tr>\n",
       "      <th>0</th>\n",
       "      <td>42</td>\n",
       "      <td>50</td>\n",
       "      <td>270900</td>\n",
       "      <td>270944</td>\n",
       "      <td>267</td>\n",
       "      <td>17</td>\n",
       "      <td>44</td>\n",
       "      <td>24220</td>\n",
       "      <td>76</td>\n",
       "      <td>108</td>\n",
       "      <td>1687</td>\n",
       "      <td>1</td>\n",
       "      <td>0</td>\n",
       "      <td>80</td>\n",
       "      <td>0.0498</td>\n",
       "      <td>0.2415</td>\n",
       "      <td>0.1818</td>\n",
       "      <td>0.0047</td>\n",
       "      <td>0.4706</td>\n",
       "      <td>1.0000</td>\n",
       "      <td>1.0</td>\n",
       "      <td>2.4265</td>\n",
       "      <td>0.9031</td>\n",
       "      <td>1.6435</td>\n",
       "      <td>0.8182</td>\n",
       "      <td>-0.2913</td>\n",
       "      <td>0.5822</td>\n",
       "      <td>1</td>\n",
       "      <td>0</td>\n",
       "      <td>0</td>\n",
       "      <td>0</td>\n",
       "      <td>0</td>\n",
       "      <td>0</td>\n",
       "      <td>0</td>\n",
       "    </tr>\n",
       "    <tr>\n",
       "      <th>1</th>\n",
       "      <td>645</td>\n",
       "      <td>651</td>\n",
       "      <td>2538079</td>\n",
       "      <td>2538108</td>\n",
       "      <td>108</td>\n",
       "      <td>10</td>\n",
       "      <td>30</td>\n",
       "      <td>11397</td>\n",
       "      <td>84</td>\n",
       "      <td>123</td>\n",
       "      <td>1687</td>\n",
       "      <td>1</td>\n",
       "      <td>0</td>\n",
       "      <td>80</td>\n",
       "      <td>0.7647</td>\n",
       "      <td>0.3793</td>\n",
       "      <td>0.2069</td>\n",
       "      <td>0.0036</td>\n",
       "      <td>0.6000</td>\n",
       "      <td>0.9667</td>\n",
       "      <td>1.0</td>\n",
       "      <td>2.0334</td>\n",
       "      <td>0.7782</td>\n",
       "      <td>1.4624</td>\n",
       "      <td>0.7931</td>\n",
       "      <td>-0.1756</td>\n",
       "      <td>0.2984</td>\n",
       "      <td>1</td>\n",
       "      <td>0</td>\n",
       "      <td>0</td>\n",
       "      <td>0</td>\n",
       "      <td>0</td>\n",
       "      <td>0</td>\n",
       "      <td>0</td>\n",
       "    </tr>\n",
       "    <tr>\n",
       "      <th>2</th>\n",
       "      <td>829</td>\n",
       "      <td>835</td>\n",
       "      <td>1553913</td>\n",
       "      <td>1553931</td>\n",
       "      <td>71</td>\n",
       "      <td>8</td>\n",
       "      <td>19</td>\n",
       "      <td>7972</td>\n",
       "      <td>99</td>\n",
       "      <td>125</td>\n",
       "      <td>1623</td>\n",
       "      <td>1</td>\n",
       "      <td>0</td>\n",
       "      <td>100</td>\n",
       "      <td>0.9710</td>\n",
       "      <td>0.3426</td>\n",
       "      <td>0.3333</td>\n",
       "      <td>0.0037</td>\n",
       "      <td>0.7500</td>\n",
       "      <td>0.9474</td>\n",
       "      <td>1.0</td>\n",
       "      <td>1.8513</td>\n",
       "      <td>0.7782</td>\n",
       "      <td>1.2553</td>\n",
       "      <td>0.6667</td>\n",
       "      <td>-0.1228</td>\n",
       "      <td>0.2150</td>\n",
       "      <td>1</td>\n",
       "      <td>0</td>\n",
       "      <td>0</td>\n",
       "      <td>0</td>\n",
       "      <td>0</td>\n",
       "      <td>0</td>\n",
       "      <td>0</td>\n",
       "    </tr>\n",
       "    <tr>\n",
       "      <th>3</th>\n",
       "      <td>853</td>\n",
       "      <td>860</td>\n",
       "      <td>369370</td>\n",
       "      <td>369415</td>\n",
       "      <td>176</td>\n",
       "      <td>13</td>\n",
       "      <td>45</td>\n",
       "      <td>18996</td>\n",
       "      <td>99</td>\n",
       "      <td>126</td>\n",
       "      <td>1353</td>\n",
       "      <td>0</td>\n",
       "      <td>1</td>\n",
       "      <td>290</td>\n",
       "      <td>0.7287</td>\n",
       "      <td>0.4413</td>\n",
       "      <td>0.1556</td>\n",
       "      <td>0.0052</td>\n",
       "      <td>0.5385</td>\n",
       "      <td>1.0000</td>\n",
       "      <td>1.0</td>\n",
       "      <td>2.2455</td>\n",
       "      <td>0.8451</td>\n",
       "      <td>1.6532</td>\n",
       "      <td>0.8444</td>\n",
       "      <td>-0.1568</td>\n",
       "      <td>0.5212</td>\n",
       "      <td>1</td>\n",
       "      <td>0</td>\n",
       "      <td>0</td>\n",
       "      <td>0</td>\n",
       "      <td>0</td>\n",
       "      <td>0</td>\n",
       "      <td>0</td>\n",
       "    </tr>\n",
       "    <tr>\n",
       "      <th>4</th>\n",
       "      <td>1289</td>\n",
       "      <td>1306</td>\n",
       "      <td>498078</td>\n",
       "      <td>498335</td>\n",
       "      <td>2409</td>\n",
       "      <td>60</td>\n",
       "      <td>260</td>\n",
       "      <td>246930</td>\n",
       "      <td>37</td>\n",
       "      <td>126</td>\n",
       "      <td>1353</td>\n",
       "      <td>0</td>\n",
       "      <td>1</td>\n",
       "      <td>185</td>\n",
       "      <td>0.0695</td>\n",
       "      <td>0.4486</td>\n",
       "      <td>0.0662</td>\n",
       "      <td>0.0126</td>\n",
       "      <td>0.2833</td>\n",
       "      <td>0.9885</td>\n",
       "      <td>1.0</td>\n",
       "      <td>3.3818</td>\n",
       "      <td>1.2305</td>\n",
       "      <td>2.4099</td>\n",
       "      <td>0.9338</td>\n",
       "      <td>-0.1992</td>\n",
       "      <td>1.0000</td>\n",
       "      <td>1</td>\n",
       "      <td>0</td>\n",
       "      <td>0</td>\n",
       "      <td>0</td>\n",
       "      <td>0</td>\n",
       "      <td>0</td>\n",
       "      <td>0</td>\n",
       "    </tr>\n",
       "  </tbody>\n",
       "</table>\n",
       "</div>"
      ],
      "text/plain": [
       "   X_Minimum  X_Maximum  Y_Minimum  Y_Maximum  Pixels_Areas  X_Perimeter  \\\n",
       "0         42         50     270900     270944           267           17   \n",
       "1        645        651    2538079    2538108           108           10   \n",
       "2        829        835    1553913    1553931            71            8   \n",
       "3        853        860     369370     369415           176           13   \n",
       "4       1289       1306     498078     498335          2409           60   \n",
       "\n",
       "   Y_Perimeter  Sum_of_Luminosity  Minimum_of_Luminosity  \\\n",
       "0           44              24220                     76   \n",
       "1           30              11397                     84   \n",
       "2           19               7972                     99   \n",
       "3           45              18996                     99   \n",
       "4          260             246930                     37   \n",
       "\n",
       "   Maximum_of_Luminosity  Length_of_Conveyer  TypeOfSteel_A300  \\\n",
       "0                    108                1687                 1   \n",
       "1                    123                1687                 1   \n",
       "2                    125                1623                 1   \n",
       "3                    126                1353                 0   \n",
       "4                    126                1353                 0   \n",
       "\n",
       "   TypeOfSteel_A400  Steel_Plate_Thickness  Edges_Index  Empty_Index  \\\n",
       "0                 0                     80       0.0498       0.2415   \n",
       "1                 0                     80       0.7647       0.3793   \n",
       "2                 0                    100       0.9710       0.3426   \n",
       "3                 1                    290       0.7287       0.4413   \n",
       "4                 1                    185       0.0695       0.4486   \n",
       "\n",
       "   Square_Index  Outside_X_Index  Edges_X_Index  Edges_Y_Index  \\\n",
       "0        0.1818           0.0047         0.4706         1.0000   \n",
       "1        0.2069           0.0036         0.6000         0.9667   \n",
       "2        0.3333           0.0037         0.7500         0.9474   \n",
       "3        0.1556           0.0052         0.5385         1.0000   \n",
       "4        0.0662           0.0126         0.2833         0.9885   \n",
       "\n",
       "   Outside_Global_Index  LogOfAreas  Log_X_Index  Log_Y_Index  \\\n",
       "0                   1.0      2.4265       0.9031       1.6435   \n",
       "1                   1.0      2.0334       0.7782       1.4624   \n",
       "2                   1.0      1.8513       0.7782       1.2553   \n",
       "3                   1.0      2.2455       0.8451       1.6532   \n",
       "4                   1.0      3.3818       1.2305       2.4099   \n",
       "\n",
       "   Orientation_Index  Luminosity_Index  SigmoidOfAreas  Pastry  Z_Scratch  \\\n",
       "0             0.8182           -0.2913          0.5822       1          0   \n",
       "1             0.7931           -0.1756          0.2984       1          0   \n",
       "2             0.6667           -0.1228          0.2150       1          0   \n",
       "3             0.8444           -0.1568          0.5212       1          0   \n",
       "4             0.9338           -0.1992          1.0000       1          0   \n",
       "\n",
       "   K_Scatch  Stains  Dirtiness  Bumps  Other_Faults  \n",
       "0         0       0          0      0             0  \n",
       "1         0       0          0      0             0  \n",
       "2         0       0          0      0             0  \n",
       "3         0       0          0      0             0  \n",
       "4         0       0          0      0             0  "
      ]
     },
     "execution_count": 271,
     "metadata": {},
     "output_type": "execute_result"
    }
   ],
   "source": [
    "# 모든 컬럼을 출력할 수 있도록 설정\n",
    "pd.set_option('display.max_columns', None)\n",
    "\n",
    "path = '../../../data/steel.csv'\n",
    "\n",
    "df = pd.read_csv(path)\n",
    "df.head()"
   ]
  },
  {
   "cell_type": "markdown",
   "metadata": {},
   "source": [
    "### 전처리 진행"
   ]
  },
  {
   "cell_type": "code",
   "execution_count": 272,
   "metadata": {},
   "outputs": [
    {
     "data": {
      "text/html": [
       "<div>\n",
       "<style scoped>\n",
       "    .dataframe tbody tr th:only-of-type {\n",
       "        vertical-align: middle;\n",
       "    }\n",
       "\n",
       "    .dataframe tbody tr th {\n",
       "        vertical-align: top;\n",
       "    }\n",
       "\n",
       "    .dataframe thead th {\n",
       "        text-align: right;\n",
       "    }\n",
       "</style>\n",
       "<table border=\"1\" class=\"dataframe\">\n",
       "  <thead>\n",
       "    <tr style=\"text-align: right;\">\n",
       "      <th></th>\n",
       "      <th>Pixels_Areas</th>\n",
       "      <th>X_Perimeter</th>\n",
       "      <th>Y_Perimeter</th>\n",
       "      <th>Sum_of_Luminosity</th>\n",
       "      <th>Minimum_of_Luminosity</th>\n",
       "      <th>Maximum_of_Luminosity</th>\n",
       "      <th>Length_of_Conveyer</th>\n",
       "      <th>TypeOfSteel</th>\n",
       "      <th>Steel_Plate_Thickness</th>\n",
       "      <th>Edges_Index</th>\n",
       "      <th>Empty_Index</th>\n",
       "      <th>Square_Index</th>\n",
       "      <th>Outside_X_Index</th>\n",
       "      <th>Edges_X_Index</th>\n",
       "      <th>Edges_Y_Index</th>\n",
       "      <th>LogOfAreas</th>\n",
       "      <th>Orientation_Index</th>\n",
       "      <th>Luminosity_Index</th>\n",
       "      <th>SigmoidOfAreas</th>\n",
       "      <th>Area</th>\n",
       "    </tr>\n",
       "  </thead>\n",
       "  <tbody>\n",
       "    <tr>\n",
       "      <th>0</th>\n",
       "      <td>267</td>\n",
       "      <td>17</td>\n",
       "      <td>44</td>\n",
       "      <td>24220</td>\n",
       "      <td>76</td>\n",
       "      <td>108</td>\n",
       "      <td>1687</td>\n",
       "      <td>0</td>\n",
       "      <td>80</td>\n",
       "      <td>0.0498</td>\n",
       "      <td>0.2415</td>\n",
       "      <td>0.1818</td>\n",
       "      <td>0.0047</td>\n",
       "      <td>0.4706</td>\n",
       "      <td>1.0000</td>\n",
       "      <td>2.4265</td>\n",
       "      <td>0.8182</td>\n",
       "      <td>-0.2913</td>\n",
       "      <td>0.5822</td>\n",
       "      <td>352</td>\n",
       "    </tr>\n",
       "    <tr>\n",
       "      <th>1</th>\n",
       "      <td>108</td>\n",
       "      <td>10</td>\n",
       "      <td>30</td>\n",
       "      <td>11397</td>\n",
       "      <td>84</td>\n",
       "      <td>123</td>\n",
       "      <td>1687</td>\n",
       "      <td>0</td>\n",
       "      <td>80</td>\n",
       "      <td>0.7647</td>\n",
       "      <td>0.3793</td>\n",
       "      <td>0.2069</td>\n",
       "      <td>0.0036</td>\n",
       "      <td>0.6000</td>\n",
       "      <td>0.9667</td>\n",
       "      <td>2.0334</td>\n",
       "      <td>0.7931</td>\n",
       "      <td>-0.1756</td>\n",
       "      <td>0.2984</td>\n",
       "      <td>174</td>\n",
       "    </tr>\n",
       "    <tr>\n",
       "      <th>2</th>\n",
       "      <td>71</td>\n",
       "      <td>8</td>\n",
       "      <td>19</td>\n",
       "      <td>7972</td>\n",
       "      <td>99</td>\n",
       "      <td>125</td>\n",
       "      <td>1623</td>\n",
       "      <td>0</td>\n",
       "      <td>100</td>\n",
       "      <td>0.9710</td>\n",
       "      <td>0.3426</td>\n",
       "      <td>0.3333</td>\n",
       "      <td>0.0037</td>\n",
       "      <td>0.7500</td>\n",
       "      <td>0.9474</td>\n",
       "      <td>1.8513</td>\n",
       "      <td>0.6667</td>\n",
       "      <td>-0.1228</td>\n",
       "      <td>0.2150</td>\n",
       "      <td>108</td>\n",
       "    </tr>\n",
       "    <tr>\n",
       "      <th>3</th>\n",
       "      <td>176</td>\n",
       "      <td>13</td>\n",
       "      <td>45</td>\n",
       "      <td>18996</td>\n",
       "      <td>99</td>\n",
       "      <td>126</td>\n",
       "      <td>1353</td>\n",
       "      <td>1</td>\n",
       "      <td>290</td>\n",
       "      <td>0.7287</td>\n",
       "      <td>0.4413</td>\n",
       "      <td>0.1556</td>\n",
       "      <td>0.0052</td>\n",
       "      <td>0.5385</td>\n",
       "      <td>1.0000</td>\n",
       "      <td>2.2455</td>\n",
       "      <td>0.8444</td>\n",
       "      <td>-0.1568</td>\n",
       "      <td>0.5212</td>\n",
       "      <td>315</td>\n",
       "    </tr>\n",
       "    <tr>\n",
       "      <th>4</th>\n",
       "      <td>2409</td>\n",
       "      <td>60</td>\n",
       "      <td>260</td>\n",
       "      <td>246930</td>\n",
       "      <td>37</td>\n",
       "      <td>126</td>\n",
       "      <td>1353</td>\n",
       "      <td>1</td>\n",
       "      <td>185</td>\n",
       "      <td>0.0695</td>\n",
       "      <td>0.4486</td>\n",
       "      <td>0.0662</td>\n",
       "      <td>0.0126</td>\n",
       "      <td>0.2833</td>\n",
       "      <td>0.9885</td>\n",
       "      <td>3.3818</td>\n",
       "      <td>0.9338</td>\n",
       "      <td>-0.1992</td>\n",
       "      <td>1.0000</td>\n",
       "      <td>4369</td>\n",
       "    </tr>\n",
       "  </tbody>\n",
       "</table>\n",
       "</div>"
      ],
      "text/plain": [
       "   Pixels_Areas  X_Perimeter  Y_Perimeter  Sum_of_Luminosity  \\\n",
       "0           267           17           44              24220   \n",
       "1           108           10           30              11397   \n",
       "2            71            8           19               7972   \n",
       "3           176           13           45              18996   \n",
       "4          2409           60          260             246930   \n",
       "\n",
       "   Minimum_of_Luminosity  Maximum_of_Luminosity  Length_of_Conveyer  \\\n",
       "0                     76                    108                1687   \n",
       "1                     84                    123                1687   \n",
       "2                     99                    125                1623   \n",
       "3                     99                    126                1353   \n",
       "4                     37                    126                1353   \n",
       "\n",
       "   TypeOfSteel  Steel_Plate_Thickness  Edges_Index  Empty_Index  Square_Index  \\\n",
       "0            0                     80       0.0498       0.2415        0.1818   \n",
       "1            0                     80       0.7647       0.3793        0.2069   \n",
       "2            0                    100       0.9710       0.3426        0.3333   \n",
       "3            1                    290       0.7287       0.4413        0.1556   \n",
       "4            1                    185       0.0695       0.4486        0.0662   \n",
       "\n",
       "   Outside_X_Index  Edges_X_Index  Edges_Y_Index  LogOfAreas  \\\n",
       "0           0.0047         0.4706         1.0000      2.4265   \n",
       "1           0.0036         0.6000         0.9667      2.0334   \n",
       "2           0.0037         0.7500         0.9474      1.8513   \n",
       "3           0.0052         0.5385         1.0000      2.2455   \n",
       "4           0.0126         0.2833         0.9885      3.3818   \n",
       "\n",
       "   Orientation_Index  Luminosity_Index  SigmoidOfAreas  Area  \n",
       "0             0.8182           -0.2913          0.5822   352  \n",
       "1             0.7931           -0.1756          0.2984   174  \n",
       "2             0.6667           -0.1228          0.2150   108  \n",
       "3             0.8444           -0.1568          0.5212   315  \n",
       "4             0.9338           -0.1992          1.0000  4369  "
      ]
     },
     "execution_count": 272,
     "metadata": {},
     "output_type": "execute_result"
    }
   ],
   "source": [
    "# 일단 카피\n",
    "df_clear = df.copy()\n",
    "# 타겟특성 빼고 변수에 저장\n",
    "df_clear = df_clear.drop(df_clear.iloc[:,-7:].columns, axis=1)\n",
    "# Area라는 컬럼 생성\n",
    "df_clear['Area'] = (df['X_Maximum'] - df['X_Minimum']) * (df['Y_Maximum'] - df['Y_Minimum'])\n",
    "# Area컬럼을 생성하는데 사용된 피쳐 제거(X_Maximum, X_Minimum, Y_Maximum, Y_Minimum)\n",
    "df_clear = df_clear.drop(df.iloc[:, :4].columns, axis=1)\n",
    "# A300 제거(300 or 400이라 하나 제거 후 컬럼명 어떻게 할지 고민)\n",
    "df_clear = df_clear.drop('TypeOfSteel_A300', axis=1)\n",
    "# 일단 TypeOfSteel로만 변경해서 설명란에 0은 300 1은 400으로 해보기로\n",
    "df_clear.rename(columns={'TypeOfSteel_A400':'TypeOfSteel'}, inplace=True)\n",
    "# Log_X_index, Log_Y_index 제거 LogOFAreas가 합친결과값으로 판단되어 제거하기로 함\n",
    "df_clear = df_clear.drop(['Log_X_Index', 'Log_Y_Index'], axis=1)\n",
    "df_clear = df_clear.drop('Outside_Global_Index', axis=1)\n",
    "df_clear.head()"
   ]
  },
  {
   "cell_type": "code",
   "execution_count": 273,
   "metadata": {},
   "outputs": [
    {
     "data": {
      "text/html": [
       "<div>\n",
       "<style scoped>\n",
       "    .dataframe tbody tr th:only-of-type {\n",
       "        vertical-align: middle;\n",
       "    }\n",
       "\n",
       "    .dataframe tbody tr th {\n",
       "        vertical-align: top;\n",
       "    }\n",
       "\n",
       "    .dataframe thead th {\n",
       "        text-align: right;\n",
       "    }\n",
       "</style>\n",
       "<table border=\"1\" class=\"dataframe\">\n",
       "  <thead>\n",
       "    <tr style=\"text-align: right;\">\n",
       "      <th></th>\n",
       "      <th>Pixels_Areas</th>\n",
       "      <th>X_Perimeter</th>\n",
       "      <th>Y_Perimeter</th>\n",
       "      <th>Sum_of_Luminosity</th>\n",
       "      <th>Minimum_of_Luminosity</th>\n",
       "      <th>Maximum_of_Luminosity</th>\n",
       "      <th>Length_of_Conveyer</th>\n",
       "      <th>TypeOfSteel</th>\n",
       "      <th>Steel_Plate_Thickness</th>\n",
       "      <th>Edges_Index</th>\n",
       "      <th>Empty_Index</th>\n",
       "      <th>Square_Index</th>\n",
       "      <th>Outside_X_Index</th>\n",
       "      <th>Edges_X_Index</th>\n",
       "      <th>Edges_Y_Index</th>\n",
       "      <th>LogOfAreas</th>\n",
       "      <th>Orientation_Index</th>\n",
       "      <th>Luminosity_Index</th>\n",
       "      <th>SigmoidOfAreas</th>\n",
       "      <th>Area</th>\n",
       "    </tr>\n",
       "  </thead>\n",
       "  <tbody>\n",
       "    <tr>\n",
       "      <th>count</th>\n",
       "      <td>1941.000000</td>\n",
       "      <td>1941.000000</td>\n",
       "      <td>1941.000000</td>\n",
       "      <td>1.941000e+03</td>\n",
       "      <td>1941.000000</td>\n",
       "      <td>1941.000000</td>\n",
       "      <td>1941.000000</td>\n",
       "      <td>1941.000000</td>\n",
       "      <td>1941.000000</td>\n",
       "      <td>1941.000000</td>\n",
       "      <td>1941.000000</td>\n",
       "      <td>1941.000000</td>\n",
       "      <td>1941.000000</td>\n",
       "      <td>1941.000000</td>\n",
       "      <td>1941.000000</td>\n",
       "      <td>1941.000000</td>\n",
       "      <td>1941.000000</td>\n",
       "      <td>1941.000000</td>\n",
       "      <td>1941.000000</td>\n",
       "      <td>1.941000e+03</td>\n",
       "    </tr>\n",
       "    <tr>\n",
       "      <th>mean</th>\n",
       "      <td>1893.878413</td>\n",
       "      <td>111.855229</td>\n",
       "      <td>82.965997</td>\n",
       "      <td>2.063121e+05</td>\n",
       "      <td>84.548686</td>\n",
       "      <td>130.193715</td>\n",
       "      <td>1459.160227</td>\n",
       "      <td>0.599691</td>\n",
       "      <td>78.737764</td>\n",
       "      <td>0.331715</td>\n",
       "      <td>0.414203</td>\n",
       "      <td>0.570767</td>\n",
       "      <td>0.033361</td>\n",
       "      <td>0.610529</td>\n",
       "      <td>0.813472</td>\n",
       "      <td>2.492388</td>\n",
       "      <td>0.083288</td>\n",
       "      <td>-0.131305</td>\n",
       "      <td>0.585420</td>\n",
       "      <td>5.464301e+03</td>\n",
       "    </tr>\n",
       "    <tr>\n",
       "      <th>std</th>\n",
       "      <td>5168.459560</td>\n",
       "      <td>301.209187</td>\n",
       "      <td>426.482879</td>\n",
       "      <td>5.122936e+05</td>\n",
       "      <td>32.134276</td>\n",
       "      <td>18.690992</td>\n",
       "      <td>144.577823</td>\n",
       "      <td>0.490087</td>\n",
       "      <td>55.086032</td>\n",
       "      <td>0.299712</td>\n",
       "      <td>0.137261</td>\n",
       "      <td>0.271058</td>\n",
       "      <td>0.058961</td>\n",
       "      <td>0.243277</td>\n",
       "      <td>0.234274</td>\n",
       "      <td>0.788930</td>\n",
       "      <td>0.500868</td>\n",
       "      <td>0.148767</td>\n",
       "      <td>0.339452</td>\n",
       "      <td>6.271009e+04</td>\n",
       "    </tr>\n",
       "    <tr>\n",
       "      <th>min</th>\n",
       "      <td>2.000000</td>\n",
       "      <td>2.000000</td>\n",
       "      <td>1.000000</td>\n",
       "      <td>2.500000e+02</td>\n",
       "      <td>0.000000</td>\n",
       "      <td>37.000000</td>\n",
       "      <td>1227.000000</td>\n",
       "      <td>0.000000</td>\n",
       "      <td>40.000000</td>\n",
       "      <td>0.000000</td>\n",
       "      <td>0.000000</td>\n",
       "      <td>0.008300</td>\n",
       "      <td>0.001500</td>\n",
       "      <td>0.014400</td>\n",
       "      <td>0.048400</td>\n",
       "      <td>0.301000</td>\n",
       "      <td>-0.991000</td>\n",
       "      <td>-0.998900</td>\n",
       "      <td>0.119000</td>\n",
       "      <td>2.000000e+00</td>\n",
       "    </tr>\n",
       "    <tr>\n",
       "      <th>25%</th>\n",
       "      <td>84.000000</td>\n",
       "      <td>15.000000</td>\n",
       "      <td>13.000000</td>\n",
       "      <td>9.522000e+03</td>\n",
       "      <td>63.000000</td>\n",
       "      <td>124.000000</td>\n",
       "      <td>1358.000000</td>\n",
       "      <td>0.000000</td>\n",
       "      <td>40.000000</td>\n",
       "      <td>0.060400</td>\n",
       "      <td>0.315800</td>\n",
       "      <td>0.361300</td>\n",
       "      <td>0.006600</td>\n",
       "      <td>0.411800</td>\n",
       "      <td>0.596800</td>\n",
       "      <td>1.924300</td>\n",
       "      <td>-0.333300</td>\n",
       "      <td>-0.195000</td>\n",
       "      <td>0.248200</td>\n",
       "      <td>1.360000e+02</td>\n",
       "    </tr>\n",
       "    <tr>\n",
       "      <th>50%</th>\n",
       "      <td>174.000000</td>\n",
       "      <td>26.000000</td>\n",
       "      <td>25.000000</td>\n",
       "      <td>1.920200e+04</td>\n",
       "      <td>90.000000</td>\n",
       "      <td>127.000000</td>\n",
       "      <td>1364.000000</td>\n",
       "      <td>1.000000</td>\n",
       "      <td>70.000000</td>\n",
       "      <td>0.227300</td>\n",
       "      <td>0.412100</td>\n",
       "      <td>0.555600</td>\n",
       "      <td>0.010100</td>\n",
       "      <td>0.636400</td>\n",
       "      <td>0.947400</td>\n",
       "      <td>2.240600</td>\n",
       "      <td>0.095200</td>\n",
       "      <td>-0.133000</td>\n",
       "      <td>0.506300</td>\n",
       "      <td>3.060000e+02</td>\n",
       "    </tr>\n",
       "    <tr>\n",
       "      <th>75%</th>\n",
       "      <td>822.000000</td>\n",
       "      <td>84.000000</td>\n",
       "      <td>83.000000</td>\n",
       "      <td>8.301100e+04</td>\n",
       "      <td>106.000000</td>\n",
       "      <td>140.000000</td>\n",
       "      <td>1650.000000</td>\n",
       "      <td>1.000000</td>\n",
       "      <td>80.000000</td>\n",
       "      <td>0.573800</td>\n",
       "      <td>0.501600</td>\n",
       "      <td>0.818200</td>\n",
       "      <td>0.023500</td>\n",
       "      <td>0.800000</td>\n",
       "      <td>1.000000</td>\n",
       "      <td>2.914900</td>\n",
       "      <td>0.511600</td>\n",
       "      <td>-0.066600</td>\n",
       "      <td>0.999800</td>\n",
       "      <td>1.610000e+03</td>\n",
       "    </tr>\n",
       "    <tr>\n",
       "      <th>max</th>\n",
       "      <td>152655.000000</td>\n",
       "      <td>10449.000000</td>\n",
       "      <td>18152.000000</td>\n",
       "      <td>1.159141e+07</td>\n",
       "      <td>203.000000</td>\n",
       "      <td>253.000000</td>\n",
       "      <td>1794.000000</td>\n",
       "      <td>1.000000</td>\n",
       "      <td>300.000000</td>\n",
       "      <td>0.995200</td>\n",
       "      <td>0.943900</td>\n",
       "      <td>1.000000</td>\n",
       "      <td>0.875900</td>\n",
       "      <td>1.000000</td>\n",
       "      <td>1.000000</td>\n",
       "      <td>5.183700</td>\n",
       "      <td>0.991700</td>\n",
       "      <td>0.642100</td>\n",
       "      <td>1.000000</td>\n",
       "      <td>2.721150e+06</td>\n",
       "    </tr>\n",
       "  </tbody>\n",
       "</table>\n",
       "</div>"
      ],
      "text/plain": [
       "        Pixels_Areas   X_Perimeter   Y_Perimeter  Sum_of_Luminosity  \\\n",
       "count    1941.000000   1941.000000   1941.000000       1.941000e+03   \n",
       "mean     1893.878413    111.855229     82.965997       2.063121e+05   \n",
       "std      5168.459560    301.209187    426.482879       5.122936e+05   \n",
       "min         2.000000      2.000000      1.000000       2.500000e+02   \n",
       "25%        84.000000     15.000000     13.000000       9.522000e+03   \n",
       "50%       174.000000     26.000000     25.000000       1.920200e+04   \n",
       "75%       822.000000     84.000000     83.000000       8.301100e+04   \n",
       "max    152655.000000  10449.000000  18152.000000       1.159141e+07   \n",
       "\n",
       "       Minimum_of_Luminosity  Maximum_of_Luminosity  Length_of_Conveyer  \\\n",
       "count            1941.000000            1941.000000         1941.000000   \n",
       "mean               84.548686             130.193715         1459.160227   \n",
       "std                32.134276              18.690992          144.577823   \n",
       "min                 0.000000              37.000000         1227.000000   \n",
       "25%                63.000000             124.000000         1358.000000   \n",
       "50%                90.000000             127.000000         1364.000000   \n",
       "75%               106.000000             140.000000         1650.000000   \n",
       "max               203.000000             253.000000         1794.000000   \n",
       "\n",
       "       TypeOfSteel  Steel_Plate_Thickness  Edges_Index  Empty_Index  \\\n",
       "count  1941.000000            1941.000000  1941.000000  1941.000000   \n",
       "mean      0.599691              78.737764     0.331715     0.414203   \n",
       "std       0.490087              55.086032     0.299712     0.137261   \n",
       "min       0.000000              40.000000     0.000000     0.000000   \n",
       "25%       0.000000              40.000000     0.060400     0.315800   \n",
       "50%       1.000000              70.000000     0.227300     0.412100   \n",
       "75%       1.000000              80.000000     0.573800     0.501600   \n",
       "max       1.000000             300.000000     0.995200     0.943900   \n",
       "\n",
       "       Square_Index  Outside_X_Index  Edges_X_Index  Edges_Y_Index  \\\n",
       "count   1941.000000      1941.000000    1941.000000    1941.000000   \n",
       "mean       0.570767         0.033361       0.610529       0.813472   \n",
       "std        0.271058         0.058961       0.243277       0.234274   \n",
       "min        0.008300         0.001500       0.014400       0.048400   \n",
       "25%        0.361300         0.006600       0.411800       0.596800   \n",
       "50%        0.555600         0.010100       0.636400       0.947400   \n",
       "75%        0.818200         0.023500       0.800000       1.000000   \n",
       "max        1.000000         0.875900       1.000000       1.000000   \n",
       "\n",
       "        LogOfAreas  Orientation_Index  Luminosity_Index  SigmoidOfAreas  \\\n",
       "count  1941.000000        1941.000000       1941.000000     1941.000000   \n",
       "mean      2.492388           0.083288         -0.131305        0.585420   \n",
       "std       0.788930           0.500868          0.148767        0.339452   \n",
       "min       0.301000          -0.991000         -0.998900        0.119000   \n",
       "25%       1.924300          -0.333300         -0.195000        0.248200   \n",
       "50%       2.240600           0.095200         -0.133000        0.506300   \n",
       "75%       2.914900           0.511600         -0.066600        0.999800   \n",
       "max       5.183700           0.991700          0.642100        1.000000   \n",
       "\n",
       "               Area  \n",
       "count  1.941000e+03  \n",
       "mean   5.464301e+03  \n",
       "std    6.271009e+04  \n",
       "min    2.000000e+00  \n",
       "25%    1.360000e+02  \n",
       "50%    3.060000e+02  \n",
       "75%    1.610000e+03  \n",
       "max    2.721150e+06  "
      ]
     },
     "execution_count": 273,
     "metadata": {},
     "output_type": "execute_result"
    }
   ],
   "source": [
    "df_clear.describe()"
   ]
  },
  {
   "cell_type": "code",
   "execution_count": 274,
   "metadata": {},
   "outputs": [],
   "source": [
    "# 정규분포를 위한 log 변환\n",
    "\n",
    "log_list = ['X_Perimeter',\n",
    "'Y_Perimeter',\n",
    "'Steel_Plate_Thickness',\n",
    "# 'Edges_Index', # <- 0이 들어있어서 로그변환이 안됨 zerodivision_error\n",
    "'Outside_X_Index',\n",
    "'Area',\n",
    "'Edges_Y_Index',\n",
    "'Pixels_Areas',\n",
    "'Sum_of_Luminosity']\n",
    "\n",
    "for i in log_list:\n",
    "    df_clear[i] = np.log(df_clear[i])"
   ]
  },
  {
   "cell_type": "code",
   "execution_count": 275,
   "metadata": {},
   "outputs": [
    {
     "data": {
      "text/html": [
       "<div>\n",
       "<style scoped>\n",
       "    .dataframe tbody tr th:only-of-type {\n",
       "        vertical-align: middle;\n",
       "    }\n",
       "\n",
       "    .dataframe tbody tr th {\n",
       "        vertical-align: top;\n",
       "    }\n",
       "\n",
       "    .dataframe thead th {\n",
       "        text-align: right;\n",
       "    }\n",
       "</style>\n",
       "<table border=\"1\" class=\"dataframe\">\n",
       "  <thead>\n",
       "    <tr style=\"text-align: right;\">\n",
       "      <th></th>\n",
       "      <th>Pixels_Areas</th>\n",
       "      <th>X_Perimeter</th>\n",
       "      <th>Y_Perimeter</th>\n",
       "      <th>Sum_of_Luminosity</th>\n",
       "      <th>Minimum_of_Luminosity</th>\n",
       "      <th>Maximum_of_Luminosity</th>\n",
       "      <th>Length_of_Conveyer</th>\n",
       "      <th>TypeOfSteel</th>\n",
       "      <th>Steel_Plate_Thickness</th>\n",
       "      <th>Edges_Index</th>\n",
       "      <th>Empty_Index</th>\n",
       "      <th>Square_Index</th>\n",
       "      <th>Outside_X_Index</th>\n",
       "      <th>Edges_X_Index</th>\n",
       "      <th>Edges_Y_Index</th>\n",
       "      <th>LogOfAreas</th>\n",
       "      <th>Orientation_Index</th>\n",
       "      <th>Luminosity_Index</th>\n",
       "      <th>SigmoidOfAreas</th>\n",
       "      <th>Area</th>\n",
       "    </tr>\n",
       "  </thead>\n",
       "  <tbody>\n",
       "    <tr>\n",
       "      <th>0</th>\n",
       "      <td>5.587249</td>\n",
       "      <td>2.833213</td>\n",
       "      <td>3.784190</td>\n",
       "      <td>10.094934</td>\n",
       "      <td>76</td>\n",
       "      <td>108</td>\n",
       "      <td>1687</td>\n",
       "      <td>0</td>\n",
       "      <td>4.382027</td>\n",
       "      <td>0.0498</td>\n",
       "      <td>0.2415</td>\n",
       "      <td>0.1818</td>\n",
       "      <td>-5.360193</td>\n",
       "      <td>0.4706</td>\n",
       "      <td>0.000000</td>\n",
       "      <td>2.4265</td>\n",
       "      <td>0.8182</td>\n",
       "      <td>-0.2913</td>\n",
       "      <td>0.5822</td>\n",
       "      <td>5.863631</td>\n",
       "    </tr>\n",
       "    <tr>\n",
       "      <th>1</th>\n",
       "      <td>4.682131</td>\n",
       "      <td>2.302585</td>\n",
       "      <td>3.401197</td>\n",
       "      <td>9.341105</td>\n",
       "      <td>84</td>\n",
       "      <td>123</td>\n",
       "      <td>1687</td>\n",
       "      <td>0</td>\n",
       "      <td>4.382027</td>\n",
       "      <td>0.7647</td>\n",
       "      <td>0.3793</td>\n",
       "      <td>0.2069</td>\n",
       "      <td>-5.626821</td>\n",
       "      <td>0.6000</td>\n",
       "      <td>-0.033867</td>\n",
       "      <td>2.0334</td>\n",
       "      <td>0.7931</td>\n",
       "      <td>-0.1756</td>\n",
       "      <td>0.2984</td>\n",
       "      <td>5.159055</td>\n",
       "    </tr>\n",
       "    <tr>\n",
       "      <th>2</th>\n",
       "      <td>4.262680</td>\n",
       "      <td>2.079442</td>\n",
       "      <td>2.944439</td>\n",
       "      <td>8.983691</td>\n",
       "      <td>99</td>\n",
       "      <td>125</td>\n",
       "      <td>1623</td>\n",
       "      <td>0</td>\n",
       "      <td>4.605170</td>\n",
       "      <td>0.9710</td>\n",
       "      <td>0.3426</td>\n",
       "      <td>0.3333</td>\n",
       "      <td>-5.599422</td>\n",
       "      <td>0.7500</td>\n",
       "      <td>-0.054034</td>\n",
       "      <td>1.8513</td>\n",
       "      <td>0.6667</td>\n",
       "      <td>-0.1228</td>\n",
       "      <td>0.2150</td>\n",
       "      <td>4.682131</td>\n",
       "    </tr>\n",
       "    <tr>\n",
       "      <th>3</th>\n",
       "      <td>5.170484</td>\n",
       "      <td>2.564949</td>\n",
       "      <td>3.806662</td>\n",
       "      <td>9.851984</td>\n",
       "      <td>99</td>\n",
       "      <td>126</td>\n",
       "      <td>1353</td>\n",
       "      <td>1</td>\n",
       "      <td>5.669881</td>\n",
       "      <td>0.7287</td>\n",
       "      <td>0.4413</td>\n",
       "      <td>0.1556</td>\n",
       "      <td>-5.259097</td>\n",
       "      <td>0.5385</td>\n",
       "      <td>0.000000</td>\n",
       "      <td>2.2455</td>\n",
       "      <td>0.8444</td>\n",
       "      <td>-0.1568</td>\n",
       "      <td>0.5212</td>\n",
       "      <td>5.752573</td>\n",
       "    </tr>\n",
       "    <tr>\n",
       "      <th>4</th>\n",
       "      <td>7.786967</td>\n",
       "      <td>4.094345</td>\n",
       "      <td>5.560682</td>\n",
       "      <td>12.416860</td>\n",
       "      <td>37</td>\n",
       "      <td>126</td>\n",
       "      <td>1353</td>\n",
       "      <td>1</td>\n",
       "      <td>5.220356</td>\n",
       "      <td>0.0695</td>\n",
       "      <td>0.4486</td>\n",
       "      <td>0.0662</td>\n",
       "      <td>-4.374058</td>\n",
       "      <td>0.2833</td>\n",
       "      <td>-0.011567</td>\n",
       "      <td>3.3818</td>\n",
       "      <td>0.9338</td>\n",
       "      <td>-0.1992</td>\n",
       "      <td>1.0000</td>\n",
       "      <td>8.382289</td>\n",
       "    </tr>\n",
       "  </tbody>\n",
       "</table>\n",
       "</div>"
      ],
      "text/plain": [
       "   Pixels_Areas  X_Perimeter  Y_Perimeter  Sum_of_Luminosity  \\\n",
       "0      5.587249     2.833213     3.784190          10.094934   \n",
       "1      4.682131     2.302585     3.401197           9.341105   \n",
       "2      4.262680     2.079442     2.944439           8.983691   \n",
       "3      5.170484     2.564949     3.806662           9.851984   \n",
       "4      7.786967     4.094345     5.560682          12.416860   \n",
       "\n",
       "   Minimum_of_Luminosity  Maximum_of_Luminosity  Length_of_Conveyer  \\\n",
       "0                     76                    108                1687   \n",
       "1                     84                    123                1687   \n",
       "2                     99                    125                1623   \n",
       "3                     99                    126                1353   \n",
       "4                     37                    126                1353   \n",
       "\n",
       "   TypeOfSteel  Steel_Plate_Thickness  Edges_Index  Empty_Index  Square_Index  \\\n",
       "0            0               4.382027       0.0498       0.2415        0.1818   \n",
       "1            0               4.382027       0.7647       0.3793        0.2069   \n",
       "2            0               4.605170       0.9710       0.3426        0.3333   \n",
       "3            1               5.669881       0.7287       0.4413        0.1556   \n",
       "4            1               5.220356       0.0695       0.4486        0.0662   \n",
       "\n",
       "   Outside_X_Index  Edges_X_Index  Edges_Y_Index  LogOfAreas  \\\n",
       "0        -5.360193         0.4706       0.000000      2.4265   \n",
       "1        -5.626821         0.6000      -0.033867      2.0334   \n",
       "2        -5.599422         0.7500      -0.054034      1.8513   \n",
       "3        -5.259097         0.5385       0.000000      2.2455   \n",
       "4        -4.374058         0.2833      -0.011567      3.3818   \n",
       "\n",
       "   Orientation_Index  Luminosity_Index  SigmoidOfAreas      Area  \n",
       "0             0.8182           -0.2913          0.5822  5.863631  \n",
       "1             0.7931           -0.1756          0.2984  5.159055  \n",
       "2             0.6667           -0.1228          0.2150  4.682131  \n",
       "3             0.8444           -0.1568          0.5212  5.752573  \n",
       "4             0.9338           -0.1992          1.0000  8.382289  "
      ]
     },
     "execution_count": 275,
     "metadata": {},
     "output_type": "execute_result"
    }
   ],
   "source": [
    "df_clear.head()"
   ]
  },
  {
   "cell_type": "code",
   "execution_count": 276,
   "metadata": {},
   "outputs": [
    {
     "data": {
      "text/plain": [
       "Other_Faults    673\n",
       "Bumps           402\n",
       "K_Scatch        391\n",
       "Z_Scratch       190\n",
       "Pastry          158\n",
       "Stains           72\n",
       "Dirtiness        55\n",
       "Name: Type, dtype: int64"
      ]
     },
     "metadata": {},
     "output_type": "display_data"
    }
   ],
   "source": [
    "y_list = list(df.iloc[:,-7:].columns)\n",
    "df_target = df.copy()\n",
    "df_target[\"Type\"] = df_target.loc[:,y_list][y_list].idxmax(axis=1)\n",
    "df_target = df_target.drop(columns=y_list)\n",
    "display(df_target['Type'].value_counts())"
   ]
  },
  {
   "cell_type": "code",
   "execution_count": 277,
   "metadata": {},
   "outputs": [
    {
     "data": {
      "text/plain": [
       "1    0.653272\n",
       "0    0.346728\n",
       "Name: Type, dtype: float64"
      ]
     },
     "execution_count": 277,
     "metadata": {},
     "output_type": "execute_result"
    }
   ],
   "source": [
    "# 이진분류를 위한 'Type' 컬럼 값 수정\n",
    "df_target1 = df_target.copy()\n",
    "df_target1['Type'] = df_target1['Type'].apply(lambda x: 1 if x != 'Other_Faults' else 0)\n",
    "df_target1['Type'].value_counts(normalize=True)"
   ]
  },
  {
   "cell_type": "code",
   "execution_count": 278,
   "metadata": {},
   "outputs": [
    {
     "data": {
      "text/plain": [
       "Bumps        0.317035\n",
       "K_Scatch     0.308360\n",
       "Z_Scratch    0.149842\n",
       "Pastry       0.124606\n",
       "Stains       0.056782\n",
       "Dirtiness    0.043375\n",
       "Name: Type, dtype: float64"
      ]
     },
     "metadata": {},
     "output_type": "display_data"
    },
    {
     "data": {
      "text/plain": [
       "0    0.317035\n",
       "2    0.308360\n",
       "5    0.149842\n",
       "3    0.124606\n",
       "4    0.056782\n",
       "1    0.043375\n",
       "Name: Type, dtype: float64"
      ]
     },
     "metadata": {},
     "output_type": "display_data"
    },
    {
     "name": "stdout",
     "output_type": "stream",
     "text": [
      "0 -> Bumps\n",
      "1 -> Dirtiness\n",
      "2 -> K_Scatch\n",
      "3 -> Pastry\n",
      "4 -> Stains\n",
      "5 -> Z_Scratch\n"
     ]
    }
   ],
   "source": [
    "# 다중분류를 위한 'Type' 컬럼 값 수정\n",
    "df_target2 = df_target.copy()\n",
    "# 'Other_Faults'를 제외한 인덱스 가져오기\n",
    "indices_to_remove = df_target2[df_target2['Type'] == 'Other_Faults'].index\n",
    "# 해당 인덱스들을 제거하여 새로운 데이터프레임 생성\n",
    "df_clear2 = df_clear.copy()\n",
    "df_clear2 = df_clear.drop(indices_to_remove)\n",
    "# 'Other_Faults' 행을 제외하고 결함이 있는 것만 남기기\n",
    "df_target2 = df_target2[df_target2['Type'] != 'Other_Faults']\n",
    "display(df_target2['Type'].value_counts(normalize=True))\n",
    "encoder = LabelEncoder()\n",
    "df_target2['Type'] = encoder.fit_transform(df_target2['Type'])\n",
    "display(df_target2['Type'].value_counts(normalize=True))\n",
    "# 라벨 인코딩된 값에 해당하는 원래 범주 확인\n",
    "for encoded, original in enumerate(encoder.classes_):\n",
    "    print(f\"{encoded} -> {original}\")"
   ]
  },
  {
   "cell_type": "markdown",
   "metadata": {},
   "source": [
    "#### Base model 성능\n",
    "\n",
    "[Epoch 10, lr 0.001]<br>\n",
    "\n",
    "[Train Dataset] Loss = 16.039, Accuracy = 0.303<br>\n",
    "\n",
    "[Test Dataset] Accuracy = 0.412<br>"
   ]
  },
  {
   "cell_type": "markdown",
   "metadata": {},
   "source": [
    "#### 모델링 순서\n",
    "- 크게 두가지 scaler 중 택 1(Standard, MinMax)\n",
    "- 오버샘플링 할지 안할지 택 1\n",
    "- 팀원분과 나누어서 분류모델로 RandomForest, Xgboost 모델 사용\n",
    "- 별 모델 만들때 쓴 함수 가져와서 사용하기(ipynb파일이라 그냥 복사 붙여넣기로 가져옴...) -> 내용이 조금 달라서 수정\n",
    "- 이진분류를 진행하고 다중분류를 진행하려 하기에 타겟값을 두종류로 나누어 모델 2개를 생성해야함"
   ]
  },
  {
   "cell_type": "code",
   "execution_count": 280,
   "metadata": {},
   "outputs": [],
   "source": [
    "# 별 모델과 다르게 x_df, y_df를 매개변수로 적어두고 사용 -> x, y를 미리 나누어두고 진행해야해서..\n",
    "\n",
    "def split_dataset(x_df, y_df, test_ratio = 0.2, select=1, upsampling=None):\n",
    "    # 미리 전역변수로 설정해두기\n",
    "    # global scaler -> 나중에 스케일링 저장하는데 문제가 생김\n",
    "    \n",
    "    x_train, x_test, y_train, y_test = train_test_split(x_df, y_df, test_size=test_ratio, random_state=42, stratify=y_df)\n",
    "    \n",
    "    # 대표적인 표준화 두가지 중 택1\n",
    "    if select == 1:\n",
    "        scaler = StandardScaler()\n",
    "    else:\n",
    "        scaler = MinMaxScaler()\n",
    "    \n",
    "    # 타겟이 불균형하므로 오버샘플링을 해보기(매개변수를 지정안해주면 None이 실행되므로 if문에 안들어감 2가지 방법 실험용)\n",
    "    # 스모트(SMOTE) 대신에 아다신(ADASYN) 사용된 이유는 좀 더 랜덤하게 업스케일링이 되게 하게 위해 사용\n",
    "    if upsampling:\n",
    "        adasyn = ADASYN(random_state=42)\n",
    "        x_train, y_train = adasyn.fit_resample(x_train, y_train)\n",
    "    \n",
    "    x_train = scaler.fit_transform(x_train)\n",
    "    x_test = scaler.transform(x_test)\n",
    "    x_train = pd.DataFrame(x_train, columns=x_df.columns)\n",
    "    x_test = pd.DataFrame(x_test, columns=x_df.columns)\n",
    "\n",
    "    return x_train, x_test, y_train, y_test, scaler"
   ]
  },
  {
   "cell_type": "code",
   "execution_count": 59,
   "metadata": {},
   "outputs": [],
   "source": [
    "def get_metrics(model, x_train, y_train):\n",
    "\n",
    "    # 교차 검증 수행 및 평가 지표 계산\n",
    "    scoring = {\n",
    "    'accuracy': 'accuracy',\n",
    "    'recall': make_scorer(recall_score),\n",
    "    'precision': make_scorer(precision_score),\n",
    "    'f1_score': make_scorer(f1_score)\n",
    "    }\n",
    "    # 훈련 평가지표 출력\n",
    "    model.fit(x_train, y_train)\n",
    "    y_pred = model.predict(x_train)\n",
    "    print(\"훈련 정확도: \", model.score(x_train, y_train))\n",
    "    print(\"훈련 recall: \", recall_score(y_train, y_pred))\n",
    "    print(\"훈련 Precision: \", precision_score(y_train, y_pred))\n",
    "    print(\"훈련 F1-score: \", f1_score(y_train, y_pred))\n",
    "\n",
    "    # 교차검증 5개로 분할\n",
    "    cv_results = cross_validate(model, x_train, y_train, cv=5, scoring=scoring)\n",
    "    \n",
    "    # 교차 검증 결과를 데이터프레임으로 변환\n",
    "    cv_results_df = pd.DataFrame(cv_results)\n",
    "    \n",
    "    # 평균값을 추가한 새로운 행을 생성하여 데이터프레임에 추가\n",
    "    mean_scores = cv_results_df.mean().to_frame().T\n",
    "    mean_scores.rename(index={0: 'mean'}, inplace=True)\n",
    "    cv_results_df = pd.concat([cv_results_df, mean_scores], axis=0)\n",
    "\n",
    "    return cv_results_df"
   ]
  },
  {
   "cell_type": "markdown",
   "metadata": {},
   "source": [
    "### 이진분류 모델 start!!!\n",
    "- df_clear, df_target1['Type'] 각 x, y로 사용\n",
    "- 이진분류와 다중분류 모델을 각각 생성해야 함... 시간이 얼마나 걸릴지.. ㅎㅎ"
   ]
  },
  {
   "cell_type": "code",
   "execution_count": 85,
   "metadata": {},
   "outputs": [
    {
     "data": {
      "text/plain": [
       "((1941, 20), (1941,), (1268, 20), (1268,))"
      ]
     },
     "execution_count": 85,
     "metadata": {},
     "output_type": "execute_result"
    }
   ],
   "source": [
    "df_clear.shape, df_target1['Type'].shape, df_clear2.shape, df_target2['Type'].shape"
   ]
  },
  {
   "cell_type": "markdown",
   "metadata": {},
   "source": [
    "- x_train1 생성하기\n",
    "- select=1 로 설정하여 StandardScaler 사용 oversampling X\n",
    "- 별모델과 똑같이 다양성을 위해 ADASYN 사용"
   ]
  },
  {
   "cell_type": "code",
   "execution_count": 86,
   "metadata": {},
   "outputs": [],
   "source": [
    "x_train1, x_test1, y_train1, y_test1 = split_dataset(df_clear, df_target1['Type'], test_ratio = 0.2, select=1, upsampling=None)"
   ]
  },
  {
   "cell_type": "code",
   "execution_count": 87,
   "metadata": {},
   "outputs": [
    {
     "name": "stdout",
     "output_type": "stream",
     "text": [
      "훈련 데이터 shape: (1552, 20) (1552,)\n",
      "테스트 데이터 shape: (389, 20) (389,)\n"
     ]
    }
   ],
   "source": [
    "print('훈련 데이터 shape:', x_train1.shape, y_train1.shape)\n",
    "print('테스트 데이터 shape:', x_test1.shape, y_test1.shape)"
   ]
  },
  {
   "cell_type": "code",
   "execution_count": 88,
   "metadata": {},
   "outputs": [
    {
     "name": "stdout",
     "output_type": "stream",
     "text": [
      "1    0.653351\n",
      "0    0.346649\n",
      "Name: Type, dtype: float64\n"
     ]
    },
    {
     "data": {
      "text/plain": [
       "1    0.652956\n",
       "0    0.347044\n",
       "Name: Type, dtype: float64"
      ]
     },
     "execution_count": 88,
     "metadata": {},
     "output_type": "execute_result"
    }
   ],
   "source": [
    "print(y_train1.value_counts(normalize=True))\n",
    "y_test1.value_counts(normalize=True)"
   ]
  },
  {
   "cell_type": "markdown",
   "metadata": {},
   "source": [
    "- x_train2 생성\n",
    "- select=1 로 설정하여 StandardScaler 사용 oversampling O"
   ]
  },
  {
   "cell_type": "code",
   "execution_count": 89,
   "metadata": {},
   "outputs": [],
   "source": [
    "x_train2, x_test2, y_train2, y_test2 = split_dataset(df_clear, df_target1['Type'], test_ratio = 0.2, select=1, upsampling=1)"
   ]
  },
  {
   "cell_type": "code",
   "execution_count": 90,
   "metadata": {},
   "outputs": [
    {
     "name": "stdout",
     "output_type": "stream",
     "text": [
      "훈련 데이터 shape: (1989, 20) (1989,)\n",
      "테스트 데이터 shape: (389, 20) (389,)\n"
     ]
    }
   ],
   "source": [
    "print('훈련 데이터 shape:', x_train2.shape, y_train2.shape)\n",
    "print('테스트 데이터 shape:', x_test2.shape, y_test2.shape)"
   ]
  },
  {
   "cell_type": "code",
   "execution_count": 91,
   "metadata": {},
   "outputs": [
    {
     "name": "stdout",
     "output_type": "stream",
     "text": [
      "1    0.509804\n",
      "0    0.490196\n",
      "Name: Type, dtype: float64\n"
     ]
    },
    {
     "data": {
      "text/plain": [
       "1    0.652956\n",
       "0    0.347044\n",
       "Name: Type, dtype: float64"
      ]
     },
     "execution_count": 91,
     "metadata": {},
     "output_type": "execute_result"
    }
   ],
   "source": [
    "print(y_train2.value_counts(normalize=True))\n",
    "y_test2.value_counts(normalize=True)"
   ]
  },
  {
   "cell_type": "markdown",
   "metadata": {},
   "source": [
    "- x_train3 생성\n",
    "- select=2 로 설정하여 MinMaxScaler 사용 oversampling X"
   ]
  },
  {
   "cell_type": "code",
   "execution_count": 92,
   "metadata": {},
   "outputs": [],
   "source": [
    "x_train3, x_test3, y_train3, y_test3 = split_dataset(df_clear, df_target1['Type'], test_ratio=0.2, select=2)"
   ]
  },
  {
   "cell_type": "code",
   "execution_count": 93,
   "metadata": {},
   "outputs": [
    {
     "name": "stdout",
     "output_type": "stream",
     "text": [
      "훈련 데이터 shape: (1552, 20) (1552,)\n",
      "테스트 데이터 shape: (389, 20) (389,)\n"
     ]
    }
   ],
   "source": [
    "print('훈련 데이터 shape:', x_train3.shape, y_train3.shape)\n",
    "print('테스트 데이터 shape:', x_test3.shape, y_test3.shape)"
   ]
  },
  {
   "cell_type": "code",
   "execution_count": 94,
   "metadata": {},
   "outputs": [
    {
     "name": "stdout",
     "output_type": "stream",
     "text": [
      "1    0.653351\n",
      "0    0.346649\n",
      "Name: Type, dtype: float64\n"
     ]
    },
    {
     "data": {
      "text/plain": [
       "1    0.652956\n",
       "0    0.347044\n",
       "Name: Type, dtype: float64"
      ]
     },
     "execution_count": 94,
     "metadata": {},
     "output_type": "execute_result"
    }
   ],
   "source": [
    "print(y_train3.value_counts(normalize=True))\n",
    "y_test3.value_counts(normalize=True)"
   ]
  },
  {
   "cell_type": "markdown",
   "metadata": {},
   "source": [
    "- x_train4 생성\n",
    "- select=2 로 설정하여 MinMaxScaler 사용 oversampling O"
   ]
  },
  {
   "cell_type": "code",
   "execution_count": 95,
   "metadata": {},
   "outputs": [],
   "source": [
    "x_train4, x_test4, y_train4, y_test4 = split_dataset(df_clear, df_target1['Type'], test_ratio=0.2, select=2, upsampling=1)"
   ]
  },
  {
   "cell_type": "code",
   "execution_count": 96,
   "metadata": {},
   "outputs": [
    {
     "name": "stdout",
     "output_type": "stream",
     "text": [
      "훈련 데이터 shape: (1989, 20) (1989,)\n",
      "테스트 데이터 shape: (389, 20) (389,)\n"
     ]
    }
   ],
   "source": [
    "print('훈련 데이터 shape:', x_train4.shape, y_train4.shape)\n",
    "print('테스트 데이터 shape:', x_test4.shape, y_test4.shape)"
   ]
  },
  {
   "cell_type": "code",
   "execution_count": 97,
   "metadata": {},
   "outputs": [
    {
     "name": "stdout",
     "output_type": "stream",
     "text": [
      "1    0.509804\n",
      "0    0.490196\n",
      "Name: Type, dtype: float64\n"
     ]
    },
    {
     "data": {
      "text/plain": [
       "1    0.652956\n",
       "0    0.347044\n",
       "Name: Type, dtype: float64"
      ]
     },
     "execution_count": 97,
     "metadata": {},
     "output_type": "execute_result"
    }
   ],
   "source": [
    "print(y_train4.value_counts(normalize=True))\n",
    "y_test4.value_counts(normalize=True)"
   ]
  },
  {
   "cell_type": "markdown",
   "metadata": {},
   "source": [
    "## RandomForest random_state만 넣고 성능 확인 후 데이터 선정"
   ]
  },
  {
   "cell_type": "code",
   "execution_count": 98,
   "metadata": {},
   "outputs": [
    {
     "name": "stdout",
     "output_type": "stream",
     "text": [
      "훈련 정확도:  1.0\n",
      "훈련 recall:  1.0\n",
      "훈련 Precision:  1.0\n",
      "훈련 F1-score:  1.0\n"
     ]
    },
    {
     "data": {
      "text/html": [
       "<div>\n",
       "<style scoped>\n",
       "    .dataframe tbody tr th:only-of-type {\n",
       "        vertical-align: middle;\n",
       "    }\n",
       "\n",
       "    .dataframe tbody tr th {\n",
       "        vertical-align: top;\n",
       "    }\n",
       "\n",
       "    .dataframe thead th {\n",
       "        text-align: right;\n",
       "    }\n",
       "</style>\n",
       "<table border=\"1\" class=\"dataframe\">\n",
       "  <thead>\n",
       "    <tr style=\"text-align: right;\">\n",
       "      <th></th>\n",
       "      <th>fit_time</th>\n",
       "      <th>score_time</th>\n",
       "      <th>test_accuracy</th>\n",
       "      <th>test_recall</th>\n",
       "      <th>test_precision</th>\n",
       "      <th>test_f1_score</th>\n",
       "    </tr>\n",
       "  </thead>\n",
       "  <tbody>\n",
       "    <tr>\n",
       "      <th>0</th>\n",
       "      <td>0.256522</td>\n",
       "      <td>0.010501</td>\n",
       "      <td>0.797428</td>\n",
       "      <td>0.891626</td>\n",
       "      <td>0.815315</td>\n",
       "      <td>0.851765</td>\n",
       "    </tr>\n",
       "    <tr>\n",
       "      <th>1</th>\n",
       "      <td>0.248364</td>\n",
       "      <td>0.010428</td>\n",
       "      <td>0.794212</td>\n",
       "      <td>0.911330</td>\n",
       "      <td>0.800866</td>\n",
       "      <td>0.852535</td>\n",
       "    </tr>\n",
       "    <tr>\n",
       "      <th>2</th>\n",
       "      <td>0.251556</td>\n",
       "      <td>0.010222</td>\n",
       "      <td>0.780645</td>\n",
       "      <td>0.896552</td>\n",
       "      <td>0.794760</td>\n",
       "      <td>0.842593</td>\n",
       "    </tr>\n",
       "    <tr>\n",
       "      <th>3</th>\n",
       "      <td>0.262013</td>\n",
       "      <td>0.010359</td>\n",
       "      <td>0.806452</td>\n",
       "      <td>0.886700</td>\n",
       "      <td>0.829493</td>\n",
       "      <td>0.857143</td>\n",
       "    </tr>\n",
       "    <tr>\n",
       "      <th>4</th>\n",
       "      <td>0.254986</td>\n",
       "      <td>0.010554</td>\n",
       "      <td>0.803226</td>\n",
       "      <td>0.881188</td>\n",
       "      <td>0.827907</td>\n",
       "      <td>0.853717</td>\n",
       "    </tr>\n",
       "    <tr>\n",
       "      <th>mean</th>\n",
       "      <td>0.254688</td>\n",
       "      <td>0.010413</td>\n",
       "      <td>0.796392</td>\n",
       "      <td>0.893479</td>\n",
       "      <td>0.813668</td>\n",
       "      <td>0.851550</td>\n",
       "    </tr>\n",
       "  </tbody>\n",
       "</table>\n",
       "</div>"
      ],
      "text/plain": [
       "      fit_time  score_time  test_accuracy  test_recall  test_precision  \\\n",
       "0     0.256522    0.010501       0.797428     0.891626        0.815315   \n",
       "1     0.248364    0.010428       0.794212     0.911330        0.800866   \n",
       "2     0.251556    0.010222       0.780645     0.896552        0.794760   \n",
       "3     0.262013    0.010359       0.806452     0.886700        0.829493   \n",
       "4     0.254986    0.010554       0.803226     0.881188        0.827907   \n",
       "mean  0.254688    0.010413       0.796392     0.893479        0.813668   \n",
       "\n",
       "      test_f1_score  \n",
       "0          0.851765  \n",
       "1          0.852535  \n",
       "2          0.842593  \n",
       "3          0.857143  \n",
       "4          0.853717  \n",
       "mean       0.851550  "
      ]
     },
     "execution_count": 98,
     "metadata": {},
     "output_type": "execute_result"
    }
   ],
   "source": [
    "# x_train1\n",
    "rf_binary_model = RandomForestClassifier(random_state=42)\n",
    "get_metrics(model=rf_binary_model, x_train=x_train1, y_train=y_train1)"
   ]
  },
  {
   "cell_type": "code",
   "execution_count": 99,
   "metadata": {},
   "outputs": [
    {
     "name": "stdout",
     "output_type": "stream",
     "text": [
      "훈련 정확도:  1.0\n",
      "훈련 recall:  1.0\n",
      "훈련 Precision:  1.0\n",
      "훈련 F1-score:  1.0\n"
     ]
    },
    {
     "data": {
      "text/html": [
       "<div>\n",
       "<style scoped>\n",
       "    .dataframe tbody tr th:only-of-type {\n",
       "        vertical-align: middle;\n",
       "    }\n",
       "\n",
       "    .dataframe tbody tr th {\n",
       "        vertical-align: top;\n",
       "    }\n",
       "\n",
       "    .dataframe thead th {\n",
       "        text-align: right;\n",
       "    }\n",
       "</style>\n",
       "<table border=\"1\" class=\"dataframe\">\n",
       "  <thead>\n",
       "    <tr style=\"text-align: right;\">\n",
       "      <th></th>\n",
       "      <th>fit_time</th>\n",
       "      <th>score_time</th>\n",
       "      <th>test_accuracy</th>\n",
       "      <th>test_recall</th>\n",
       "      <th>test_precision</th>\n",
       "      <th>test_f1_score</th>\n",
       "    </tr>\n",
       "  </thead>\n",
       "  <tbody>\n",
       "    <tr>\n",
       "      <th>0</th>\n",
       "      <td>0.334176</td>\n",
       "      <td>0.011326</td>\n",
       "      <td>0.783920</td>\n",
       "      <td>0.837438</td>\n",
       "      <td>0.762332</td>\n",
       "      <td>0.798122</td>\n",
       "    </tr>\n",
       "    <tr>\n",
       "      <th>1</th>\n",
       "      <td>0.330551</td>\n",
       "      <td>0.011319</td>\n",
       "      <td>0.804020</td>\n",
       "      <td>0.827586</td>\n",
       "      <td>0.796209</td>\n",
       "      <td>0.811594</td>\n",
       "    </tr>\n",
       "    <tr>\n",
       "      <th>2</th>\n",
       "      <td>0.327907</td>\n",
       "      <td>0.011496</td>\n",
       "      <td>0.821608</td>\n",
       "      <td>0.793103</td>\n",
       "      <td>0.847368</td>\n",
       "      <td>0.819338</td>\n",
       "    </tr>\n",
       "    <tr>\n",
       "      <th>3</th>\n",
       "      <td>0.327338</td>\n",
       "      <td>0.011368</td>\n",
       "      <td>0.854271</td>\n",
       "      <td>0.798030</td>\n",
       "      <td>0.905028</td>\n",
       "      <td>0.848168</td>\n",
       "    </tr>\n",
       "    <tr>\n",
       "      <th>4</th>\n",
       "      <td>0.323579</td>\n",
       "      <td>0.011401</td>\n",
       "      <td>0.848866</td>\n",
       "      <td>0.787129</td>\n",
       "      <td>0.903409</td>\n",
       "      <td>0.841270</td>\n",
       "    </tr>\n",
       "    <tr>\n",
       "      <th>mean</th>\n",
       "      <td>0.328710</td>\n",
       "      <td>0.011382</td>\n",
       "      <td>0.822537</td>\n",
       "      <td>0.808657</td>\n",
       "      <td>0.842869</td>\n",
       "      <td>0.823698</td>\n",
       "    </tr>\n",
       "  </tbody>\n",
       "</table>\n",
       "</div>"
      ],
      "text/plain": [
       "      fit_time  score_time  test_accuracy  test_recall  test_precision  \\\n",
       "0     0.334176    0.011326       0.783920     0.837438        0.762332   \n",
       "1     0.330551    0.011319       0.804020     0.827586        0.796209   \n",
       "2     0.327907    0.011496       0.821608     0.793103        0.847368   \n",
       "3     0.327338    0.011368       0.854271     0.798030        0.905028   \n",
       "4     0.323579    0.011401       0.848866     0.787129        0.903409   \n",
       "mean  0.328710    0.011382       0.822537     0.808657        0.842869   \n",
       "\n",
       "      test_f1_score  \n",
       "0          0.798122  \n",
       "1          0.811594  \n",
       "2          0.819338  \n",
       "3          0.848168  \n",
       "4          0.841270  \n",
       "mean       0.823698  "
      ]
     },
     "execution_count": 99,
     "metadata": {},
     "output_type": "execute_result"
    }
   ],
   "source": [
    "# x_train2\n",
    "get_metrics(model=rf_binary_model, x_train=x_train2, y_train=y_train2)"
   ]
  },
  {
   "cell_type": "code",
   "execution_count": 100,
   "metadata": {},
   "outputs": [
    {
     "name": "stdout",
     "output_type": "stream",
     "text": [
      "훈련 정확도:  1.0\n",
      "훈련 recall:  1.0\n",
      "훈련 Precision:  1.0\n",
      "훈련 F1-score:  1.0\n"
     ]
    },
    {
     "data": {
      "text/html": [
       "<div>\n",
       "<style scoped>\n",
       "    .dataframe tbody tr th:only-of-type {\n",
       "        vertical-align: middle;\n",
       "    }\n",
       "\n",
       "    .dataframe tbody tr th {\n",
       "        vertical-align: top;\n",
       "    }\n",
       "\n",
       "    .dataframe thead th {\n",
       "        text-align: right;\n",
       "    }\n",
       "</style>\n",
       "<table border=\"1\" class=\"dataframe\">\n",
       "  <thead>\n",
       "    <tr style=\"text-align: right;\">\n",
       "      <th></th>\n",
       "      <th>fit_time</th>\n",
       "      <th>score_time</th>\n",
       "      <th>test_accuracy</th>\n",
       "      <th>test_recall</th>\n",
       "      <th>test_precision</th>\n",
       "      <th>test_f1_score</th>\n",
       "    </tr>\n",
       "  </thead>\n",
       "  <tbody>\n",
       "    <tr>\n",
       "      <th>0</th>\n",
       "      <td>0.257211</td>\n",
       "      <td>0.010461</td>\n",
       "      <td>0.794212</td>\n",
       "      <td>0.886700</td>\n",
       "      <td>0.814480</td>\n",
       "      <td>0.849057</td>\n",
       "    </tr>\n",
       "    <tr>\n",
       "      <th>1</th>\n",
       "      <td>0.252253</td>\n",
       "      <td>0.010725</td>\n",
       "      <td>0.794212</td>\n",
       "      <td>0.911330</td>\n",
       "      <td>0.800866</td>\n",
       "      <td>0.852535</td>\n",
       "    </tr>\n",
       "    <tr>\n",
       "      <th>2</th>\n",
       "      <td>0.253868</td>\n",
       "      <td>0.010254</td>\n",
       "      <td>0.783871</td>\n",
       "      <td>0.896552</td>\n",
       "      <td>0.798246</td>\n",
       "      <td>0.844548</td>\n",
       "    </tr>\n",
       "    <tr>\n",
       "      <th>3</th>\n",
       "      <td>0.258603</td>\n",
       "      <td>0.010339</td>\n",
       "      <td>0.803226</td>\n",
       "      <td>0.886700</td>\n",
       "      <td>0.825688</td>\n",
       "      <td>0.855107</td>\n",
       "    </tr>\n",
       "    <tr>\n",
       "      <th>4</th>\n",
       "      <td>0.255339</td>\n",
       "      <td>0.010572</td>\n",
       "      <td>0.803226</td>\n",
       "      <td>0.881188</td>\n",
       "      <td>0.827907</td>\n",
       "      <td>0.853717</td>\n",
       "    </tr>\n",
       "    <tr>\n",
       "      <th>mean</th>\n",
       "      <td>0.255455</td>\n",
       "      <td>0.010470</td>\n",
       "      <td>0.795749</td>\n",
       "      <td>0.892494</td>\n",
       "      <td>0.813437</td>\n",
       "      <td>0.850993</td>\n",
       "    </tr>\n",
       "  </tbody>\n",
       "</table>\n",
       "</div>"
      ],
      "text/plain": [
       "      fit_time  score_time  test_accuracy  test_recall  test_precision  \\\n",
       "0     0.257211    0.010461       0.794212     0.886700        0.814480   \n",
       "1     0.252253    0.010725       0.794212     0.911330        0.800866   \n",
       "2     0.253868    0.010254       0.783871     0.896552        0.798246   \n",
       "3     0.258603    0.010339       0.803226     0.886700        0.825688   \n",
       "4     0.255339    0.010572       0.803226     0.881188        0.827907   \n",
       "mean  0.255455    0.010470       0.795749     0.892494        0.813437   \n",
       "\n",
       "      test_f1_score  \n",
       "0          0.849057  \n",
       "1          0.852535  \n",
       "2          0.844548  \n",
       "3          0.855107  \n",
       "4          0.853717  \n",
       "mean       0.850993  "
      ]
     },
     "execution_count": 100,
     "metadata": {},
     "output_type": "execute_result"
    }
   ],
   "source": [
    "# x_train3\n",
    "get_metrics(model=rf_binary_model, x_train=x_train3, y_train=y_train3)"
   ]
  },
  {
   "cell_type": "code",
   "execution_count": 102,
   "metadata": {},
   "outputs": [
    {
     "name": "stdout",
     "output_type": "stream",
     "text": [
      "훈련 정확도:  1.0\n",
      "훈련 recall:  1.0\n",
      "훈련 Precision:  1.0\n",
      "훈련 F1-score:  1.0\n"
     ]
    },
    {
     "data": {
      "text/html": [
       "<div>\n",
       "<style scoped>\n",
       "    .dataframe tbody tr th:only-of-type {\n",
       "        vertical-align: middle;\n",
       "    }\n",
       "\n",
       "    .dataframe tbody tr th {\n",
       "        vertical-align: top;\n",
       "    }\n",
       "\n",
       "    .dataframe thead th {\n",
       "        text-align: right;\n",
       "    }\n",
       "</style>\n",
       "<table border=\"1\" class=\"dataframe\">\n",
       "  <thead>\n",
       "    <tr style=\"text-align: right;\">\n",
       "      <th></th>\n",
       "      <th>fit_time</th>\n",
       "      <th>score_time</th>\n",
       "      <th>test_accuracy</th>\n",
       "      <th>test_recall</th>\n",
       "      <th>test_precision</th>\n",
       "      <th>test_f1_score</th>\n",
       "    </tr>\n",
       "  </thead>\n",
       "  <tbody>\n",
       "    <tr>\n",
       "      <th>0</th>\n",
       "      <td>0.324018</td>\n",
       "      <td>0.011217</td>\n",
       "      <td>0.783920</td>\n",
       "      <td>0.837438</td>\n",
       "      <td>0.762332</td>\n",
       "      <td>0.798122</td>\n",
       "    </tr>\n",
       "    <tr>\n",
       "      <th>1</th>\n",
       "      <td>0.326773</td>\n",
       "      <td>0.011401</td>\n",
       "      <td>0.804020</td>\n",
       "      <td>0.827586</td>\n",
       "      <td>0.796209</td>\n",
       "      <td>0.811594</td>\n",
       "    </tr>\n",
       "    <tr>\n",
       "      <th>2</th>\n",
       "      <td>0.322999</td>\n",
       "      <td>0.011046</td>\n",
       "      <td>0.821608</td>\n",
       "      <td>0.793103</td>\n",
       "      <td>0.847368</td>\n",
       "      <td>0.819338</td>\n",
       "    </tr>\n",
       "    <tr>\n",
       "      <th>3</th>\n",
       "      <td>0.326941</td>\n",
       "      <td>0.011270</td>\n",
       "      <td>0.854271</td>\n",
       "      <td>0.798030</td>\n",
       "      <td>0.905028</td>\n",
       "      <td>0.848168</td>\n",
       "    </tr>\n",
       "    <tr>\n",
       "      <th>4</th>\n",
       "      <td>0.320674</td>\n",
       "      <td>0.011184</td>\n",
       "      <td>0.848866</td>\n",
       "      <td>0.787129</td>\n",
       "      <td>0.903409</td>\n",
       "      <td>0.841270</td>\n",
       "    </tr>\n",
       "    <tr>\n",
       "      <th>mean</th>\n",
       "      <td>0.324281</td>\n",
       "      <td>0.011224</td>\n",
       "      <td>0.822537</td>\n",
       "      <td>0.808657</td>\n",
       "      <td>0.842869</td>\n",
       "      <td>0.823698</td>\n",
       "    </tr>\n",
       "  </tbody>\n",
       "</table>\n",
       "</div>"
      ],
      "text/plain": [
       "      fit_time  score_time  test_accuracy  test_recall  test_precision  \\\n",
       "0     0.324018    0.011217       0.783920     0.837438        0.762332   \n",
       "1     0.326773    0.011401       0.804020     0.827586        0.796209   \n",
       "2     0.322999    0.011046       0.821608     0.793103        0.847368   \n",
       "3     0.326941    0.011270       0.854271     0.798030        0.905028   \n",
       "4     0.320674    0.011184       0.848866     0.787129        0.903409   \n",
       "mean  0.324281    0.011224       0.822537     0.808657        0.842869   \n",
       "\n",
       "      test_f1_score  \n",
       "0          0.798122  \n",
       "1          0.811594  \n",
       "2          0.819338  \n",
       "3          0.848168  \n",
       "4          0.841270  \n",
       "mean       0.823698  "
      ]
     },
     "execution_count": 102,
     "metadata": {},
     "output_type": "execute_result"
    }
   ],
   "source": [
    "# x_train4\n",
    "get_metrics(model=rf_binary_model, x_train=x_train4, y_train=y_train4)"
   ]
  },
  {
   "cell_type": "markdown",
   "metadata": {},
   "source": [
    "### x_train1이 가장 기본으로 돌릴때 성능이 좋음\n",
    "### 07/25 오전 회의를 통해 정확도가 맞다고 판단되어 데이터를 바꾸기로 결정\n",
    "- accuracy\trecall\t    precision\t    f1_score\n",
    "- 0.796392\t0.893479\t0.813668\t    0.851550\n",
    "- 훈련데이터에 과적합이 심하다고 생각함\n",
    "### x_train4로 변경\n",
    "- accuracy\trecall\t    precision\t    f1_score\n",
    "- 0.822537\t0.808657\t0.842869\t    0.823698"
   ]
  },
  {
   "cell_type": "code",
   "execution_count": 103,
   "metadata": {},
   "outputs": [],
   "source": [
    "from sklearn.model_selection import GridSearchCV, RandomizedSearchCV\n",
    "from scipy.stats import randint"
   ]
  },
  {
   "cell_type": "markdown",
   "metadata": {},
   "source": [
    "- 07/24 23:20분 돌려놓고 잘 준비.. 랜덤서치로 최대한 조합수 많이 넣어놓자..\n",
    "- 이진분류는 accuracy 기준으로 돌려봄\n",
    "- 확실한게 좋다고 생각해서"
   ]
  },
  {
   "cell_type": "code",
   "execution_count": 114,
   "metadata": {},
   "outputs": [
    {
     "name": "stdout",
     "output_type": "stream",
     "text": [
      "최적의 하이퍼파라미터:  {'max_depth': 18, 'max_features': 4, 'min_samples_leaf': 2, 'min_samples_split': 4, 'n_estimators': 308}\n",
      "최고 accuracy_score:  0.84013518473982\n"
     ]
    }
   ],
   "source": [
    "rf_binary_model = RandomForestClassifier(random_state=42,\n",
    "                                         class_weight='balanced',\n",
    "                                         bootstrap=False)\n",
    "\n",
    "param_dist = {\n",
    "    'n_estimators': randint(300, 500), # 이 값을 늘리면 더 많은 트리를 사용하여 예측을 평균화하므로 일반화 성능을 향상시킬 수 있다.\n",
    "    'max_depth': randint(15, 30), # 작은 값으로 설정하면 트리의 복잡성이 줄어들어 과적합을 방지\n",
    "    'min_samples_split': randint(2, 10), # 큰 값으로 설정하면 과적합을 방지하는 데 도움\n",
    "    'min_samples_leaf': randint(2, 5), # 큰 값으로 설정하면 과적합을 방지하는 데 도움\n",
    "    'max_features' : randint(2, 10), # 특성 수를 제한하여 과적합을 줄일 수 있다.\n",
    "}\n",
    "\n",
    "# 랜덤 서치 수행\n",
    "random_search = RandomizedSearchCV(\n",
    "    rf_binary_model, param_distributions=param_dist, n_iter=100, cv=5, scoring='accuracy')\n",
    "\n",
    "# 학습 데이터에 랜덤 서치 수행\n",
    "random_search.fit(x_train4, y_train4)\n",
    "\n",
    "# 최적의 하이퍼파라미터와 평가 지표 출력\n",
    "print(\"최적의 하이퍼파라미터: \", random_search.best_params_)\n",
    "print(\"최고 accuracy_score: \", random_search.best_score_)"
   ]
  },
  {
   "cell_type": "markdown",
   "metadata": {},
   "source": [
    "- 1번째 랜덤서치\n",
    "최적의 하이퍼파라미터:  {'bootstrap': True, 'max_depth': 17, 'max_features': 14, 'min_samples_leaf': 2, 'min_samples_split': 3, 'n_estimators': 304}\n",
    "최고 f1_score:  0.8460733433296797\n",
    "\n",
    "- 2번째 랜덤서치\n",
    "최적의 하이퍼파라미터:  {'bootstrap': True, 'max_depth': 21, 'max_features': 15, 'min_samples_leaf': 3, 'min_samples_split': 6, 'n_estimators': 441}\n",
    "최고 f1_score:  0.8453989559577655\n",
    "\n",
    "- 3번째 랜덤서치\n",
    "최적의 하이퍼파라미터:  {'bootstrap': True, 'max_depth': 25, 'max_features': 17,'min_samples_leaf': 2, 'min_samples_split': 2, 'n_estimators': 373}\n",
    "최고 f1_score:  0.8513466975273782\n",
    "\n",
    "- 4번째 랜덤서치(accuracy기준으로 하기로 결정해서 다시) x_train4\n",
    "최적의 하이퍼파라미터:  {'bootstrap': False, 'max_depth': 16, 'max_features': 6, 'min_samples_leaf': 2, 'min_samples_split': 7, 'n_estimators': 320}\n",
    "최고 accuracy_score:  0.835108793336962\n",
    "\n",
    "- 5번째 랜덤서치\n",
    "최적의 하이퍼파라미터:  {'bootstrap': False, 'max_depth': 24, 'max_features': 6, 'min_samples_leaf': 2, 'min_samples_split': 4, 'n_estimators': 350}\n",
    "최고 accuracy_score:  0.8411427414148831\n",
    "\n",
    "- 6번째 랜덤서치\n",
    "최적의 하이퍼파라미터:  {'max_depth': 18, 'max_features': 4, 'min_samples_leaf': 2, 'min_samples_split': 4, 'n_estimators': 308}\n",
    "최고 accuracy_score:  0.84013518473982"
   ]
  },
  {
   "cell_type": "markdown",
   "metadata": {},
   "source": [
    "### GridSearch"
   ]
  },
  {
   "cell_type": "code",
   "execution_count": 117,
   "metadata": {},
   "outputs": [
    {
     "name": "stdout",
     "output_type": "stream",
     "text": [
      "최적의 하이퍼파라미터: {'max_depth': 17, 'max_features': 8, 'min_samples_split': 2, 'n_estimators': 340}\n",
      "최고 accuracy: 0.8411427414148829\n"
     ]
    }
   ],
   "source": [
    "# 모델 생성\n",
    "rf_grid_model = RandomForestClassifier(random_state=42,\n",
    "                               class_weight='balanced',\n",
    "                               bootstrap=False,\n",
    "                               min_samples_leaf=2)\n",
    "\n",
    "# 하이퍼파라미터 후보들을 딕셔너리 형태로 정의\n",
    "param_grid = {\n",
    "    'n_estimators': [330, 340, 350, 360],  # 결정 트리 개수 후보\n",
    "    'max_depth': [16, 17, 18],  # 최대 깊이 후보\n",
    "    'min_samples_split': [2, 3, 4],  # 노드를 분할하기 위한 최소 샘플 수 후보\n",
    "    'max_features': [7, 8, 9, 10]\n",
    "}\n",
    "\n",
    "# Recall을 사용하여 그리드 서치 수행\n",
    "grid_search = GridSearchCV(rf_grid_model, param_grid, cv=5, scoring='accuracy')\n",
    "\n",
    "# 학습 데이터에 그리드 서치 수행\n",
    "grid_search.fit(x_train4, y_train4)\n",
    "\n",
    "# 최적의 파라미터와 성능 확인\n",
    "print(\"최적의 하이퍼파라미터:\", grid_search.best_params_)\n",
    "print(\"최고 accuracy:\", grid_search.best_score_)"
   ]
  },
  {
   "cell_type": "markdown",
   "metadata": {},
   "source": [
    "- 그리드서치 1번째\n",
    "최적의 하이퍼파라미터: {'max_depth': 18, 'min_samples_leaf': 2, 'min_samples_split': 6, 'n_estimators': 300}\n",
    "최고 Recall: 0.848582527287854 -> max_features 빼먹음.. ㅜㅜ\n",
    "\n",
    "- 그리드서치 2번째 x_train4로 바꿈 accuracy 기준!\n",
    "최적의 하이퍼파라미터: {'max_depth': 18, 'max_features': 6, 'min_samples_split': 3, 'n_estimators': 323}\n",
    "최고 accuracy: 0.8406402288520688\n",
    "\n",
    "- 그리드서치 3번째\n",
    "최적의 하이퍼파라미터: {'max_depth': 17, 'max_features': 8, 'min_samples_split': 2, 'n_estimators': 340}\n",
    "최고 accuracy: 0.8411427414148829\n",
    "\n",
    "- 그리드서치 4번째\n",
    "최적의 하이퍼파라미터: {'max_depth': 17, 'max_features': 8, 'min_samples_split': 2, 'n_estimators': 340}\n",
    "최고 accuracy: 0.8411427414148829"
   ]
  },
  {
   "cell_type": "code",
   "execution_count": 120,
   "metadata": {},
   "outputs": [
    {
     "data": {
      "text/html": [
       "<style>#sk-container-id-1 {color: black;background-color: white;}#sk-container-id-1 pre{padding: 0;}#sk-container-id-1 div.sk-toggleable {background-color: white;}#sk-container-id-1 label.sk-toggleable__label {cursor: pointer;display: block;width: 100%;margin-bottom: 0;padding: 0.3em;box-sizing: border-box;text-align: center;}#sk-container-id-1 label.sk-toggleable__label-arrow:before {content: \"▸\";float: left;margin-right: 0.25em;color: #696969;}#sk-container-id-1 label.sk-toggleable__label-arrow:hover:before {color: black;}#sk-container-id-1 div.sk-estimator:hover label.sk-toggleable__label-arrow:before {color: black;}#sk-container-id-1 div.sk-toggleable__content {max-height: 0;max-width: 0;overflow: hidden;text-align: left;background-color: #f0f8ff;}#sk-container-id-1 div.sk-toggleable__content pre {margin: 0.2em;color: black;border-radius: 0.25em;background-color: #f0f8ff;}#sk-container-id-1 input.sk-toggleable__control:checked~div.sk-toggleable__content {max-height: 200px;max-width: 100%;overflow: auto;}#sk-container-id-1 input.sk-toggleable__control:checked~label.sk-toggleable__label-arrow:before {content: \"▾\";}#sk-container-id-1 div.sk-estimator input.sk-toggleable__control:checked~label.sk-toggleable__label {background-color: #d4ebff;}#sk-container-id-1 div.sk-label input.sk-toggleable__control:checked~label.sk-toggleable__label {background-color: #d4ebff;}#sk-container-id-1 input.sk-hidden--visually {border: 0;clip: rect(1px 1px 1px 1px);clip: rect(1px, 1px, 1px, 1px);height: 1px;margin: -1px;overflow: hidden;padding: 0;position: absolute;width: 1px;}#sk-container-id-1 div.sk-estimator {font-family: monospace;background-color: #f0f8ff;border: 1px dotted black;border-radius: 0.25em;box-sizing: border-box;margin-bottom: 0.5em;}#sk-container-id-1 div.sk-estimator:hover {background-color: #d4ebff;}#sk-container-id-1 div.sk-parallel-item::after {content: \"\";width: 100%;border-bottom: 1px solid gray;flex-grow: 1;}#sk-container-id-1 div.sk-label:hover label.sk-toggleable__label {background-color: #d4ebff;}#sk-container-id-1 div.sk-serial::before {content: \"\";position: absolute;border-left: 1px solid gray;box-sizing: border-box;top: 0;bottom: 0;left: 50%;z-index: 0;}#sk-container-id-1 div.sk-serial {display: flex;flex-direction: column;align-items: center;background-color: white;padding-right: 0.2em;padding-left: 0.2em;position: relative;}#sk-container-id-1 div.sk-item {position: relative;z-index: 1;}#sk-container-id-1 div.sk-parallel {display: flex;align-items: stretch;justify-content: center;background-color: white;position: relative;}#sk-container-id-1 div.sk-item::before, #sk-container-id-1 div.sk-parallel-item::before {content: \"\";position: absolute;border-left: 1px solid gray;box-sizing: border-box;top: 0;bottom: 0;left: 50%;z-index: -1;}#sk-container-id-1 div.sk-parallel-item {display: flex;flex-direction: column;z-index: 1;position: relative;background-color: white;}#sk-container-id-1 div.sk-parallel-item:first-child::after {align-self: flex-end;width: 50%;}#sk-container-id-1 div.sk-parallel-item:last-child::after {align-self: flex-start;width: 50%;}#sk-container-id-1 div.sk-parallel-item:only-child::after {width: 0;}#sk-container-id-1 div.sk-dashed-wrapped {border: 1px dashed gray;margin: 0 0.4em 0.5em 0.4em;box-sizing: border-box;padding-bottom: 0.4em;background-color: white;}#sk-container-id-1 div.sk-label label {font-family: monospace;font-weight: bold;display: inline-block;line-height: 1.2em;}#sk-container-id-1 div.sk-label-container {text-align: center;}#sk-container-id-1 div.sk-container {/* jupyter's `normalize.less` sets `[hidden] { display: none; }` but bootstrap.min.css set `[hidden] { display: none !important; }` so we also need the `!important` here to be able to override the default hidden behavior on the sphinx rendered scikit-learn.org. See: https://github.com/scikit-learn/scikit-learn/issues/21755 */display: inline-block !important;position: relative;}#sk-container-id-1 div.sk-text-repr-fallback {display: none;}</style><div id=\"sk-container-id-1\" class=\"sk-top-container\"><div class=\"sk-text-repr-fallback\"><pre>RandomForestClassifier(bootstrap=False, class_weight=&#x27;balanced&#x27;, max_depth=17,\n",
       "                       max_features=8, min_samples_leaf=2, n_estimators=340,\n",
       "                       random_state=42)</pre><b>In a Jupyter environment, please rerun this cell to show the HTML representation or trust the notebook. <br />On GitHub, the HTML representation is unable to render, please try loading this page with nbviewer.org.</b></div><div class=\"sk-container\" hidden><div class=\"sk-item\"><div class=\"sk-estimator sk-toggleable\"><input class=\"sk-toggleable__control sk-hidden--visually\" id=\"sk-estimator-id-1\" type=\"checkbox\" checked><label for=\"sk-estimator-id-1\" class=\"sk-toggleable__label sk-toggleable__label-arrow\">RandomForestClassifier</label><div class=\"sk-toggleable__content\"><pre>RandomForestClassifier(bootstrap=False, class_weight=&#x27;balanced&#x27;, max_depth=17,\n",
       "                       max_features=8, min_samples_leaf=2, n_estimators=340,\n",
       "                       random_state=42)</pre></div></div></div></div></div>"
      ],
      "text/plain": [
       "RandomForestClassifier(bootstrap=False, class_weight='balanced', max_depth=17,\n",
       "                       max_features=8, min_samples_leaf=2, n_estimators=340,\n",
       "                       random_state=42)"
      ]
     },
     "execution_count": 120,
     "metadata": {},
     "output_type": "execute_result"
    }
   ],
   "source": [
    "rf_final_model = RandomForestClassifier(random_state=42,\n",
    "                               class_weight='balanced',\n",
    "                               bootstrap=False,\n",
    "                               min_samples_leaf=2,\n",
    "                               max_depth=17,\n",
    "                               max_features=8,\n",
    "                               min_samples_split=2,\n",
    "                               n_estimators=340)\n",
    "\n",
    "rf_final_model.fit(x_train4, y_train4)"
   ]
  },
  {
   "cell_type": "code",
   "execution_count": 121,
   "metadata": {},
   "outputs": [
    {
     "name": "stdout",
     "output_type": "stream",
     "text": [
      "테스트 정확도:  0.7866323907455013\n",
      "테스트 recall:  0.8188976377952756\n",
      "테스트 Precision:  0.8489795918367347\n",
      "테스트 F1-score:  0.8336673346693387\n"
     ]
    }
   ],
   "source": [
    "y_test_pred = rf_final_model.predict(x_test4)\n",
    "print(\"테스트 정확도: \", accuracy_score(y_test4, y_test_pred))\n",
    "print(\"테스트 recall: \", recall_score(y_test4, y_test_pred))\n",
    "print(\"테스트 Precision: \", precision_score(y_test4, y_test_pred))\n",
    "print(\"테스트 F1-score: \", f1_score(y_test4, y_test_pred))"
   ]
  },
  {
   "cell_type": "markdown",
   "metadata": {},
   "source": [
    "#### 성능이 별로 좋지 못했다..\n",
    "- 같이 머신러닝 돌리는 팀원분이 cpu성능이 좋으셔서 다른 여러모델을 많이 확인해주셨다.. 맥북 어째서.. ㅜㅜ"
   ]
  },
  {
   "cell_type": "markdown",
   "metadata": {},
   "source": [
    "### 다중분류 start!!"
   ]
  },
  {
   "cell_type": "code",
   "execution_count": 281,
   "metadata": {},
   "outputs": [
    {
     "data": {
      "text/plain": [
       "((1268, 20), (1268,))"
      ]
     },
     "execution_count": 281,
     "metadata": {},
     "output_type": "execute_result"
    }
   ],
   "source": [
    "df_clear2.shape, df_target2['Type'].shape"
   ]
  },
  {
   "cell_type": "code",
   "execution_count": 282,
   "metadata": {},
   "outputs": [],
   "source": [
    "x_train5, x_test5, y_train5, y_test5, scaler5 = split_dataset(df_clear2, df_target2['Type'], test_ratio = 0.2, select=1, upsampling=None)"
   ]
  },
  {
   "cell_type": "code",
   "execution_count": 283,
   "metadata": {},
   "outputs": [
    {
     "name": "stdout",
     "output_type": "stream",
     "text": [
      "훈련 데이터 shape: (1014, 20) (1014,)\n",
      "테스트 데이터 shape: (254, 20) (254,)\n",
      "0    0.316568\n",
      "2    0.308679\n",
      "5    0.149901\n",
      "3    0.124260\n",
      "4    0.057199\n",
      "1    0.043393\n",
      "Name: Type, dtype: float64\n"
     ]
    },
    {
     "data": {
      "text/plain": [
       "0    0.318898\n",
       "2    0.307087\n",
       "5    0.149606\n",
       "3    0.125984\n",
       "4    0.055118\n",
       "1    0.043307\n",
       "Name: Type, dtype: float64"
      ]
     },
     "execution_count": 283,
     "metadata": {},
     "output_type": "execute_result"
    }
   ],
   "source": [
    "print('훈련 데이터 shape:', x_train5.shape, y_train5.shape)\n",
    "print('테스트 데이터 shape:', x_test5.shape, y_test5.shape)\n",
    "\n",
    "print(y_train5.value_counts(normalize=True))\n",
    "y_test5.value_counts(normalize=True)"
   ]
  },
  {
   "cell_type": "code",
   "execution_count": 284,
   "metadata": {},
   "outputs": [],
   "source": [
    "x_train6, x_test6, y_train6, y_test6, scaler6 = split_dataset(df_clear2, df_target2['Type'], test_ratio = 0.2, select=1, upsampling=1)"
   ]
  },
  {
   "cell_type": "code",
   "execution_count": 285,
   "metadata": {},
   "outputs": [
    {
     "name": "stdout",
     "output_type": "stream",
     "text": [
      "훈련 데이터 shape: (1940, 20) (1940,)\n",
      "테스트 데이터 shape: (254, 20) (254,)\n",
      "5    0.173711\n",
      "1    0.172165\n",
      "4    0.166495\n",
      "0    0.165464\n",
      "2    0.163918\n",
      "3    0.158247\n",
      "Name: Type, dtype: float64\n"
     ]
    },
    {
     "data": {
      "text/plain": [
       "0    0.318898\n",
       "2    0.307087\n",
       "5    0.149606\n",
       "3    0.125984\n",
       "4    0.055118\n",
       "1    0.043307\n",
       "Name: Type, dtype: float64"
      ]
     },
     "execution_count": 285,
     "metadata": {},
     "output_type": "execute_result"
    }
   ],
   "source": [
    "print('훈련 데이터 shape:', x_train6.shape, y_train6.shape)\n",
    "print('테스트 데이터 shape:', x_test6.shape, y_test6.shape)\n",
    "\n",
    "print(y_train6.value_counts(normalize=True))\n",
    "y_test6.value_counts(normalize=True)"
   ]
  },
  {
   "cell_type": "code",
   "execution_count": 286,
   "metadata": {},
   "outputs": [],
   "source": [
    "x_train7, x_test7, y_train7, y_test7, scaler7 = split_dataset(df_clear2, df_target2['Type'], test_ratio = 0.2, select=2, upsampling=None)"
   ]
  },
  {
   "cell_type": "code",
   "execution_count": 287,
   "metadata": {},
   "outputs": [
    {
     "name": "stdout",
     "output_type": "stream",
     "text": [
      "훈련 데이터 shape: (1014, 20) (1014,)\n",
      "테스트 데이터 shape: (254, 20) (254,)\n",
      "0    0.316568\n",
      "2    0.308679\n",
      "5    0.149901\n",
      "3    0.124260\n",
      "4    0.057199\n",
      "1    0.043393\n",
      "Name: Type, dtype: float64\n"
     ]
    },
    {
     "data": {
      "text/plain": [
       "0    0.318898\n",
       "2    0.307087\n",
       "5    0.149606\n",
       "3    0.125984\n",
       "4    0.055118\n",
       "1    0.043307\n",
       "Name: Type, dtype: float64"
      ]
     },
     "execution_count": 287,
     "metadata": {},
     "output_type": "execute_result"
    }
   ],
   "source": [
    "print('훈련 데이터 shape:', x_train7.shape, y_train7.shape)\n",
    "print('테스트 데이터 shape:', x_test7.shape, y_test7.shape)\n",
    "\n",
    "print(y_train7.value_counts(normalize=True))\n",
    "y_test7.value_counts(normalize=True)"
   ]
  },
  {
   "cell_type": "code",
   "execution_count": 288,
   "metadata": {},
   "outputs": [],
   "source": [
    "x_train8, x_test8, y_train8, y_test8, scaler8 = split_dataset(df_clear2, df_target2['Type'], test_ratio = 0.2, select=2, upsampling=1)"
   ]
  },
  {
   "cell_type": "code",
   "execution_count": 289,
   "metadata": {},
   "outputs": [
    {
     "name": "stdout",
     "output_type": "stream",
     "text": [
      "훈련 데이터 shape: (1940, 20) (1940,)\n",
      "테스트 데이터 shape: (254, 20) (254,)\n",
      "5    0.173711\n",
      "1    0.172165\n",
      "4    0.166495\n",
      "0    0.165464\n",
      "2    0.163918\n",
      "3    0.158247\n",
      "Name: Type, dtype: float64\n"
     ]
    },
    {
     "data": {
      "text/plain": [
       "0    0.318898\n",
       "2    0.307087\n",
       "5    0.149606\n",
       "3    0.125984\n",
       "4    0.055118\n",
       "1    0.043307\n",
       "Name: Type, dtype: float64"
      ]
     },
     "execution_count": 289,
     "metadata": {},
     "output_type": "execute_result"
    }
   ],
   "source": [
    "print('훈련 데이터 shape:', x_train8.shape, y_train8.shape)\n",
    "print('테스트 데이터 shape:', x_test8.shape, y_test8.shape)\n",
    "\n",
    "print(y_train8.value_counts(normalize=True))\n",
    "y_test8.value_counts(normalize=True)"
   ]
  },
  {
   "cell_type": "markdown",
   "metadata": {},
   "source": [
    "### 동료분의 cpu를 활용해 일단 xgboost를 맡아서 하기로 -> 랜덤포레스트모델이 조금 느린편"
   ]
  },
  {
   "cell_type": "code",
   "execution_count": 290,
   "metadata": {},
   "outputs": [],
   "source": [
    "### get_metrix 함수 다중분류를 위해 조금 수정\n",
    "\n",
    "def get_metrics_multiple(model, x_train, y_train, average='micro'):\n",
    "    # 교차 검증 수행 및 평가 지표 계산\n",
    "    scoring = {\n",
    "    'accuracy': 'accuracy',\n",
    "    'recall': make_scorer(recall_score, average='macro'),\n",
    "    'precision': make_scorer(precision_score, average='macro'),\n",
    "    'f1_score': make_scorer(f1_score, average='macro')\n",
    "}\n",
    "\n",
    "    # 훈련 평가지표 출력\n",
    "    model.fit(x_train, y_train)\n",
    "    y_pred = model.predict(x_train)\n",
    "    print(\"훈련 정확도: \", model.score(x_train, y_train))\n",
    "    print(\"훈련 recall: \", recall_score(y_train, y_pred, average=average))\n",
    "    print(\"훈련 Precision: \", precision_score(y_train, y_pred, average=average))\n",
    "    print(\"훈련 F1-score: \", f1_score(y_train, y_pred, average=average))\n",
    "\n",
    "    # 교차검증 5개로 분할\n",
    "    cv_results = cross_validate(model, x_train, y_train, cv=5, scoring=scoring)\n",
    "\n",
    "    # 교차 검증 결과를 데이터프레임으로 변환\n",
    "    cv_results_df = pd.DataFrame(cv_results)\n",
    "\n",
    "    # 평균값을 추가한 새로운 행을 생성하여 데이터프레임에 추가\n",
    "    mean_scores = cv_results_df.mean().to_frame().T\n",
    "    mean_scores.rename(index={0: 'mean'}, inplace=True)\n",
    "    cv_results_df = pd.concat([cv_results_df, mean_scores], axis=0)\n",
    "\n",
    "    return cv_results_df"
   ]
  },
  {
   "cell_type": "code",
   "execution_count": 291,
   "metadata": {},
   "outputs": [
    {
     "name": "stdout",
     "output_type": "stream",
     "text": [
      "훈련 정확도:  1.0\n",
      "훈련 recall:  1.0\n",
      "훈련 Precision:  1.0\n",
      "훈련 F1-score:  1.0\n"
     ]
    },
    {
     "data": {
      "text/html": [
       "<div>\n",
       "<style scoped>\n",
       "    .dataframe tbody tr th:only-of-type {\n",
       "        vertical-align: middle;\n",
       "    }\n",
       "\n",
       "    .dataframe tbody tr th {\n",
       "        vertical-align: top;\n",
       "    }\n",
       "\n",
       "    .dataframe thead th {\n",
       "        text-align: right;\n",
       "    }\n",
       "</style>\n",
       "<table border=\"1\" class=\"dataframe\">\n",
       "  <thead>\n",
       "    <tr style=\"text-align: right;\">\n",
       "      <th></th>\n",
       "      <th>fit_time</th>\n",
       "      <th>score_time</th>\n",
       "      <th>test_accuracy</th>\n",
       "      <th>test_recall</th>\n",
       "      <th>test_precision</th>\n",
       "      <th>test_f1_score</th>\n",
       "    </tr>\n",
       "  </thead>\n",
       "  <tbody>\n",
       "    <tr>\n",
       "      <th>0</th>\n",
       "      <td>0.409573</td>\n",
       "      <td>0.004864</td>\n",
       "      <td>0.862069</td>\n",
       "      <td>0.817530</td>\n",
       "      <td>0.847281</td>\n",
       "      <td>0.830930</td>\n",
       "    </tr>\n",
       "    <tr>\n",
       "      <th>1</th>\n",
       "      <td>0.398011</td>\n",
       "      <td>0.005043</td>\n",
       "      <td>0.901478</td>\n",
       "      <td>0.857841</td>\n",
       "      <td>0.919234</td>\n",
       "      <td>0.881438</td>\n",
       "    </tr>\n",
       "    <tr>\n",
       "      <th>2</th>\n",
       "      <td>0.422274</td>\n",
       "      <td>0.004723</td>\n",
       "      <td>0.916256</td>\n",
       "      <td>0.885856</td>\n",
       "      <td>0.937289</td>\n",
       "      <td>0.907328</td>\n",
       "    </tr>\n",
       "    <tr>\n",
       "      <th>3</th>\n",
       "      <td>0.422750</td>\n",
       "      <td>0.005988</td>\n",
       "      <td>0.906404</td>\n",
       "      <td>0.854172</td>\n",
       "      <td>0.877200</td>\n",
       "      <td>0.863061</td>\n",
       "    </tr>\n",
       "    <tr>\n",
       "      <th>4</th>\n",
       "      <td>0.413903</td>\n",
       "      <td>0.006211</td>\n",
       "      <td>0.925743</td>\n",
       "      <td>0.909358</td>\n",
       "      <td>0.924225</td>\n",
       "      <td>0.916407</td>\n",
       "    </tr>\n",
       "    <tr>\n",
       "      <th>mean</th>\n",
       "      <td>0.413302</td>\n",
       "      <td>0.005366</td>\n",
       "      <td>0.902390</td>\n",
       "      <td>0.864951</td>\n",
       "      <td>0.901046</td>\n",
       "      <td>0.879833</td>\n",
       "    </tr>\n",
       "  </tbody>\n",
       "</table>\n",
       "</div>"
      ],
      "text/plain": [
       "      fit_time  score_time  test_accuracy  test_recall  test_precision  \\\n",
       "0     0.409573    0.004864       0.862069     0.817530        0.847281   \n",
       "1     0.398011    0.005043       0.901478     0.857841        0.919234   \n",
       "2     0.422274    0.004723       0.916256     0.885856        0.937289   \n",
       "3     0.422750    0.005988       0.906404     0.854172        0.877200   \n",
       "4     0.413903    0.006211       0.925743     0.909358        0.924225   \n",
       "mean  0.413302    0.005366       0.902390     0.864951        0.901046   \n",
       "\n",
       "      test_f1_score  \n",
       "0          0.830930  \n",
       "1          0.881438  \n",
       "2          0.907328  \n",
       "3          0.863061  \n",
       "4          0.916407  \n",
       "mean       0.879833  "
      ]
     },
     "execution_count": 291,
     "metadata": {},
     "output_type": "execute_result"
    }
   ],
   "source": [
    "# x_train5\n",
    "xgb_model = XGBClassifier(random_state=42)\n",
    "get_metrics_multiple(model=xgb_model, x_train=x_train5, y_train=y_train5)"
   ]
  },
  {
   "cell_type": "code",
   "execution_count": 292,
   "metadata": {},
   "outputs": [
    {
     "name": "stdout",
     "output_type": "stream",
     "text": [
      "훈련 정확도:  1.0\n",
      "훈련 recall:  1.0\n",
      "훈련 Precision:  1.0\n",
      "훈련 F1-score:  1.0\n"
     ]
    },
    {
     "data": {
      "text/html": [
       "<div>\n",
       "<style scoped>\n",
       "    .dataframe tbody tr th:only-of-type {\n",
       "        vertical-align: middle;\n",
       "    }\n",
       "\n",
       "    .dataframe tbody tr th {\n",
       "        vertical-align: top;\n",
       "    }\n",
       "\n",
       "    .dataframe thead th {\n",
       "        text-align: right;\n",
       "    }\n",
       "</style>\n",
       "<table border=\"1\" class=\"dataframe\">\n",
       "  <thead>\n",
       "    <tr style=\"text-align: right;\">\n",
       "      <th></th>\n",
       "      <th>fit_time</th>\n",
       "      <th>score_time</th>\n",
       "      <th>test_accuracy</th>\n",
       "      <th>test_recall</th>\n",
       "      <th>test_precision</th>\n",
       "      <th>test_f1_score</th>\n",
       "    </tr>\n",
       "  </thead>\n",
       "  <tbody>\n",
       "    <tr>\n",
       "      <th>0</th>\n",
       "      <td>0.905001</td>\n",
       "      <td>0.005333</td>\n",
       "      <td>0.907216</td>\n",
       "      <td>0.906924</td>\n",
       "      <td>0.908380</td>\n",
       "      <td>0.907069</td>\n",
       "    </tr>\n",
       "    <tr>\n",
       "      <th>1</th>\n",
       "      <td>0.676281</td>\n",
       "      <td>0.010463</td>\n",
       "      <td>0.951031</td>\n",
       "      <td>0.949770</td>\n",
       "      <td>0.950409</td>\n",
       "      <td>0.949791</td>\n",
       "    </tr>\n",
       "    <tr>\n",
       "      <th>2</th>\n",
       "      <td>0.780561</td>\n",
       "      <td>0.005355</td>\n",
       "      <td>0.963918</td>\n",
       "      <td>0.964026</td>\n",
       "      <td>0.964136</td>\n",
       "      <td>0.963495</td>\n",
       "    </tr>\n",
       "    <tr>\n",
       "      <th>3</th>\n",
       "      <td>0.580388</td>\n",
       "      <td>0.005037</td>\n",
       "      <td>0.953608</td>\n",
       "      <td>0.953580</td>\n",
       "      <td>0.954472</td>\n",
       "      <td>0.952585</td>\n",
       "    </tr>\n",
       "    <tr>\n",
       "      <th>4</th>\n",
       "      <td>0.647001</td>\n",
       "      <td>0.005172</td>\n",
       "      <td>0.966495</td>\n",
       "      <td>0.966012</td>\n",
       "      <td>0.966356</td>\n",
       "      <td>0.965858</td>\n",
       "    </tr>\n",
       "    <tr>\n",
       "      <th>mean</th>\n",
       "      <td>0.717846</td>\n",
       "      <td>0.006272</td>\n",
       "      <td>0.948454</td>\n",
       "      <td>0.948062</td>\n",
       "      <td>0.948751</td>\n",
       "      <td>0.947759</td>\n",
       "    </tr>\n",
       "  </tbody>\n",
       "</table>\n",
       "</div>"
      ],
      "text/plain": [
       "      fit_time  score_time  test_accuracy  test_recall  test_precision  \\\n",
       "0     0.905001    0.005333       0.907216     0.906924        0.908380   \n",
       "1     0.676281    0.010463       0.951031     0.949770        0.950409   \n",
       "2     0.780561    0.005355       0.963918     0.964026        0.964136   \n",
       "3     0.580388    0.005037       0.953608     0.953580        0.954472   \n",
       "4     0.647001    0.005172       0.966495     0.966012        0.966356   \n",
       "mean  0.717846    0.006272       0.948454     0.948062        0.948751   \n",
       "\n",
       "      test_f1_score  \n",
       "0          0.907069  \n",
       "1          0.949791  \n",
       "2          0.963495  \n",
       "3          0.952585  \n",
       "4          0.965858  \n",
       "mean       0.947759  "
      ]
     },
     "execution_count": 292,
     "metadata": {},
     "output_type": "execute_result"
    }
   ],
   "source": [
    "# x_train6\n",
    "get_metrics_multiple(model=xgb_model, x_train=x_train6, y_train=y_train6)"
   ]
  },
  {
   "cell_type": "code",
   "execution_count": 293,
   "metadata": {},
   "outputs": [
    {
     "name": "stdout",
     "output_type": "stream",
     "text": [
      "훈련 정확도:  1.0\n",
      "훈련 recall:  1.0\n",
      "훈련 Precision:  1.0\n",
      "훈련 F1-score:  1.0\n"
     ]
    },
    {
     "data": {
      "text/html": [
       "<div>\n",
       "<style scoped>\n",
       "    .dataframe tbody tr th:only-of-type {\n",
       "        vertical-align: middle;\n",
       "    }\n",
       "\n",
       "    .dataframe tbody tr th {\n",
       "        vertical-align: top;\n",
       "    }\n",
       "\n",
       "    .dataframe thead th {\n",
       "        text-align: right;\n",
       "    }\n",
       "</style>\n",
       "<table border=\"1\" class=\"dataframe\">\n",
       "  <thead>\n",
       "    <tr style=\"text-align: right;\">\n",
       "      <th></th>\n",
       "      <th>fit_time</th>\n",
       "      <th>score_time</th>\n",
       "      <th>test_accuracy</th>\n",
       "      <th>test_recall</th>\n",
       "      <th>test_precision</th>\n",
       "      <th>test_f1_score</th>\n",
       "    </tr>\n",
       "  </thead>\n",
       "  <tbody>\n",
       "    <tr>\n",
       "      <th>0</th>\n",
       "      <td>0.298364</td>\n",
       "      <td>0.004580</td>\n",
       "      <td>0.862069</td>\n",
       "      <td>0.817530</td>\n",
       "      <td>0.847281</td>\n",
       "      <td>0.830930</td>\n",
       "    </tr>\n",
       "    <tr>\n",
       "      <th>1</th>\n",
       "      <td>0.485526</td>\n",
       "      <td>0.005989</td>\n",
       "      <td>0.901478</td>\n",
       "      <td>0.857841</td>\n",
       "      <td>0.919234</td>\n",
       "      <td>0.881438</td>\n",
       "    </tr>\n",
       "    <tr>\n",
       "      <th>2</th>\n",
       "      <td>0.541538</td>\n",
       "      <td>0.004909</td>\n",
       "      <td>0.916256</td>\n",
       "      <td>0.885856</td>\n",
       "      <td>0.937289</td>\n",
       "      <td>0.907328</td>\n",
       "    </tr>\n",
       "    <tr>\n",
       "      <th>3</th>\n",
       "      <td>0.419679</td>\n",
       "      <td>0.004715</td>\n",
       "      <td>0.906404</td>\n",
       "      <td>0.854172</td>\n",
       "      <td>0.877200</td>\n",
       "      <td>0.863061</td>\n",
       "    </tr>\n",
       "    <tr>\n",
       "      <th>4</th>\n",
       "      <td>0.449528</td>\n",
       "      <td>0.010325</td>\n",
       "      <td>0.925743</td>\n",
       "      <td>0.909358</td>\n",
       "      <td>0.924225</td>\n",
       "      <td>0.916407</td>\n",
       "    </tr>\n",
       "    <tr>\n",
       "      <th>mean</th>\n",
       "      <td>0.438927</td>\n",
       "      <td>0.006104</td>\n",
       "      <td>0.902390</td>\n",
       "      <td>0.864951</td>\n",
       "      <td>0.901046</td>\n",
       "      <td>0.879833</td>\n",
       "    </tr>\n",
       "  </tbody>\n",
       "</table>\n",
       "</div>"
      ],
      "text/plain": [
       "      fit_time  score_time  test_accuracy  test_recall  test_precision  \\\n",
       "0     0.298364    0.004580       0.862069     0.817530        0.847281   \n",
       "1     0.485526    0.005989       0.901478     0.857841        0.919234   \n",
       "2     0.541538    0.004909       0.916256     0.885856        0.937289   \n",
       "3     0.419679    0.004715       0.906404     0.854172        0.877200   \n",
       "4     0.449528    0.010325       0.925743     0.909358        0.924225   \n",
       "mean  0.438927    0.006104       0.902390     0.864951        0.901046   \n",
       "\n",
       "      test_f1_score  \n",
       "0          0.830930  \n",
       "1          0.881438  \n",
       "2          0.907328  \n",
       "3          0.863061  \n",
       "4          0.916407  \n",
       "mean       0.879833  "
      ]
     },
     "execution_count": 293,
     "metadata": {},
     "output_type": "execute_result"
    }
   ],
   "source": [
    "# x_train7\n",
    "get_metrics_multiple(model=xgb_model, x_train=x_train7, y_train=y_train7)"
   ]
  },
  {
   "cell_type": "code",
   "execution_count": 294,
   "metadata": {},
   "outputs": [
    {
     "name": "stdout",
     "output_type": "stream",
     "text": [
      "훈련 정확도:  1.0\n",
      "훈련 recall:  1.0\n",
      "훈련 Precision:  1.0\n",
      "훈련 F1-score:  1.0\n"
     ]
    },
    {
     "data": {
      "text/html": [
       "<div>\n",
       "<style scoped>\n",
       "    .dataframe tbody tr th:only-of-type {\n",
       "        vertical-align: middle;\n",
       "    }\n",
       "\n",
       "    .dataframe tbody tr th {\n",
       "        vertical-align: top;\n",
       "    }\n",
       "\n",
       "    .dataframe thead th {\n",
       "        text-align: right;\n",
       "    }\n",
       "</style>\n",
       "<table border=\"1\" class=\"dataframe\">\n",
       "  <thead>\n",
       "    <tr style=\"text-align: right;\">\n",
       "      <th></th>\n",
       "      <th>fit_time</th>\n",
       "      <th>score_time</th>\n",
       "      <th>test_accuracy</th>\n",
       "      <th>test_recall</th>\n",
       "      <th>test_precision</th>\n",
       "      <th>test_f1_score</th>\n",
       "    </tr>\n",
       "  </thead>\n",
       "  <tbody>\n",
       "    <tr>\n",
       "      <th>0</th>\n",
       "      <td>0.616775</td>\n",
       "      <td>0.005427</td>\n",
       "      <td>0.907216</td>\n",
       "      <td>0.906924</td>\n",
       "      <td>0.908380</td>\n",
       "      <td>0.907069</td>\n",
       "    </tr>\n",
       "    <tr>\n",
       "      <th>1</th>\n",
       "      <td>0.783163</td>\n",
       "      <td>0.005736</td>\n",
       "      <td>0.951031</td>\n",
       "      <td>0.949770</td>\n",
       "      <td>0.950409</td>\n",
       "      <td>0.949791</td>\n",
       "    </tr>\n",
       "    <tr>\n",
       "      <th>2</th>\n",
       "      <td>0.691963</td>\n",
       "      <td>0.005043</td>\n",
       "      <td>0.963918</td>\n",
       "      <td>0.964026</td>\n",
       "      <td>0.964136</td>\n",
       "      <td>0.963495</td>\n",
       "    </tr>\n",
       "    <tr>\n",
       "      <th>3</th>\n",
       "      <td>0.605517</td>\n",
       "      <td>0.005196</td>\n",
       "      <td>0.953608</td>\n",
       "      <td>0.953580</td>\n",
       "      <td>0.954472</td>\n",
       "      <td>0.952585</td>\n",
       "    </tr>\n",
       "    <tr>\n",
       "      <th>4</th>\n",
       "      <td>0.617660</td>\n",
       "      <td>0.005190</td>\n",
       "      <td>0.966495</td>\n",
       "      <td>0.966012</td>\n",
       "      <td>0.966356</td>\n",
       "      <td>0.965858</td>\n",
       "    </tr>\n",
       "    <tr>\n",
       "      <th>mean</th>\n",
       "      <td>0.663016</td>\n",
       "      <td>0.005318</td>\n",
       "      <td>0.948454</td>\n",
       "      <td>0.948062</td>\n",
       "      <td>0.948751</td>\n",
       "      <td>0.947759</td>\n",
       "    </tr>\n",
       "  </tbody>\n",
       "</table>\n",
       "</div>"
      ],
      "text/plain": [
       "      fit_time  score_time  test_accuracy  test_recall  test_precision  \\\n",
       "0     0.616775    0.005427       0.907216     0.906924        0.908380   \n",
       "1     0.783163    0.005736       0.951031     0.949770        0.950409   \n",
       "2     0.691963    0.005043       0.963918     0.964026        0.964136   \n",
       "3     0.605517    0.005196       0.953608     0.953580        0.954472   \n",
       "4     0.617660    0.005190       0.966495     0.966012        0.966356   \n",
       "mean  0.663016    0.005318       0.948454     0.948062        0.948751   \n",
       "\n",
       "      test_f1_score  \n",
       "0          0.907069  \n",
       "1          0.949791  \n",
       "2          0.963495  \n",
       "3          0.952585  \n",
       "4          0.965858  \n",
       "mean       0.947759  "
      ]
     },
     "execution_count": 294,
     "metadata": {},
     "output_type": "execute_result"
    }
   ],
   "source": [
    "# x_train8\n",
    "get_metrics_multiple(model=xgb_model, x_train=x_train8, y_train=y_train8)"
   ]
  },
  {
   "cell_type": "markdown",
   "metadata": {},
   "source": [
    "### xgboost 다중분류 x_train6, 8이 좋음 fit_time, score_time만 조금 다름\n",
    "- 오버샘플링 한 데이터들\n",
    "- 조금이라도 fit_time이 빠른 6번으로 일단 진행!!!"
   ]
  },
  {
   "cell_type": "code",
   "execution_count": 176,
   "metadata": {},
   "outputs": [
    {
     "name": "stdout",
     "output_type": "stream",
     "text": [
      "최적의 하이퍼파라미터:  {'eta': 0.2449233044643096, 'max_depth': 13, 'min_child_weight': 1, 'subsample': 0.6155850256247313}\n",
      "최고 f1_score:  0.9534034521005614\n"
     ]
    }
   ],
   "source": [
    "from scipy.stats import randint, uniform\n",
    "from sklearn.model_selection import GridSearchCV, RandomizedSearchCV\n",
    "\n",
    "xgb_model = XGBClassifier(random_state=42)\n",
    "\n",
    "param_dist = {\n",
    "    'eta': uniform(0.1, 0.6),\n",
    "    'max_depth': randint(10, 20),\n",
    "    'min_child_weight': randint(1, 10),\n",
    "    'subsample': uniform(0, 1)\n",
    "}\n",
    "\n",
    "# 랜덤 서치 수행\n",
    "xgb_random_search = RandomizedSearchCV(\n",
    "    xgb_model, param_distributions=param_dist, n_iter=200, cv=5, scoring='f1_weighted')\n",
    "\n",
    "# 학습 데이터에 랜덤 서치 수행\n",
    "xgb_random_search.fit(x_train6, y_train6)\n",
    "\n",
    "# 최적의 하이퍼파라미터와 평가 지표 출력\n",
    "print(\"최적의 하이퍼파라미터: \", xgb_random_search.best_params_)\n",
    "print(\"최고 f1_score: \", xgb_random_search.best_score_)"
   ]
  },
  {
   "cell_type": "markdown",
   "metadata": {},
   "source": [
    "- 1번째 랜덤서치 -> 20가지 방법으로 돌림 다음부터 100가지 방법정도\n",
    "최적의 하이퍼파라미터:  {'eta': 0.5136114215641763, 'max_depth': 7, 'min_child_weight': 3, 'subsample': 0.6480291768734825}\n",
    "최고 f1_score:  0.9497623460164458\n",
    "\n",
    "- 2번째 랜덤서치\n",
    "최적의 하이퍼파라미터:  {'eta': 0.3715863440725103, 'max_depth': 17, 'min_child_weight': 2, 'subsample': 0.7684493551941742}\n",
    "최고 f1_score:  0.9539657460998854\n",
    "\n",
    "- 3번째 랜덤서치\n",
    "최적의 하이퍼파라미터:  {'eta': 0.5210914882011322, 'max_depth': 12, 'min_child_weight': 2, 'subsample': 0.9346332957610737}\n",
    "최고 f1_score:  0.9513202848127182\n",
    "\n",
    "- 4번째 랜덤서치\n",
    "최적의 하이퍼파라미터:  {'eta': 0.3562024457441226, 'max_depth': 18, 'min_child_weight': 2, 'subsample': 0.7607811576838809}\n",
    "최고 f1_score:  0.9536565449751494\n",
    "\n",
    "- 5번째 랜덤서치\n",
    "최적의 하이퍼파라미터:  {'eta': 0.3094142536522143, 'max_depth': 16, 'min_child_weight': 3, 'subsample': 0.8586832681130361}\n",
    "최고 f1_score:  0.9535738665727619\n",
    "\n",
    "- 6번째 랜덤서치 -> f1_macro에서 f1_weighted 로 변경(테스트데이터가 불균형하기에 학습데이터부터 통일하기로)\n",
    "최적의 하이퍼파라미터:  {'eta': 0.22279437833002427, 'max_depth': 14, 'min_child_weight': 2, 'subsample': 0.4525036375409023}\n",
    "최고 f1_score:  0.9539303174441611\n",
    "\n",
    "- 7번째 랜덤서치\n",
    "최적의 하이퍼파라미터:  {'eta': 0.2449233044643096, 'max_depth': 13, 'min_child_weight': 1, 'subsample': 0.6155850256247313}\n",
    "최고 f1_score:  0.9534034521005614"
   ]
  },
  {
   "cell_type": "markdown",
   "metadata": {},
   "source": [
    "### xgb gridsearch start!!\n",
    "- 소수점으로 들어가는 데이터들이 많아서 그리드보다 랜덤이 더 괜찮아 보이기도 함..."
   ]
  },
  {
   "cell_type": "code",
   "execution_count": 164,
   "metadata": {},
   "outputs": [
    {
     "name": "stdout",
     "output_type": "stream",
     "text": [
      "최적의 하이퍼파라미터: {'max_depth': 15, 'min_child_weight': 1, 'subsample': 0.8}\n",
      "최고 f1_score: 0.9555528309977743\n"
     ]
    }
   ],
   "source": [
    "# 모델 생성\n",
    "xgb_model = XGBClassifier(random_state=42,\n",
    "                          eta=0.3715863440725103)\n",
    "\n",
    "# 하이퍼파라미터 후보들을 딕셔너리 형태로 정의\n",
    "param_grid = {\n",
    "    'max_depth': [13, 14, 15, 16, 17],\n",
    "    'min_child_weight': [1, 2, 3],\n",
    "    'subsample': [0.75, 0.8, 0.85]\n",
    "}\n",
    "\n",
    "# Recall을 사용하여 그리드 서치 수행\n",
    "grid_search = GridSearchCV(xgb_model, param_grid, cv=5, scoring='f1_weighted')\n",
    "\n",
    "# 학습 데이터에 그리드 서치 수행\n",
    "grid_search.fit(x_train6, y_train6)\n",
    "\n",
    "# 최적의 파라미터와 성능 확인\n",
    "print(\"최적의 하이퍼파라미터:\", grid_search.best_params_)\n",
    "print(\"최고 f1_score:\", grid_search.best_score_)"
   ]
  },
  {
   "cell_type": "markdown",
   "metadata": {},
   "source": [
    "- 그리드 1번째\n",
    "최적의 하이퍼파라미터: {'eta': 0.3715863440725103, 'max_depth': 15, 'min_child_weight': 2, 'subsample': 0.9}\n",
    "최고 f1_score: 0.9519846420741394\n",
    "\n",
    "- 그리드 2번째\n",
    "최적의 하이퍼파라미터: {'max_depth': 15, 'min_child_weight': 1, 'subsample': 0.8}\n",
    "최고 f1_score: 0.9555528309977743\n",
    "\n",
    "- 그리드 3번째\n",
    "최적의 하이퍼파라미터: {'max_depth': 14, 'min_child_weight': 2, 'subsample': 0.85}\n",
    "최고 f1_score: 0.9540633169862316\n",
    "\n",
    "- 그리드 4번째\n",
    "최적의 하이퍼파라미터: {'max_depth': 15, 'min_child_weight': 1, 'subsample': 0.8}\n",
    "최고 f1_score: 0.9555528309977743"
   ]
  },
  {
   "cell_type": "markdown",
   "metadata": {},
   "source": [
    "- 7번째 랜덤서치\n",
    "최적의 하이퍼파라미터:  {'eta': 0.2449233044643096, 'max_depth': 13, 'min_child_weight': 1, 'subsample': 0.6155850256247313}\n",
    "최고 f1_score:  0.9534034521005614"
   ]
  },
  {
   "cell_type": "code",
   "execution_count": 295,
   "metadata": {},
   "outputs": [
    {
     "data": {
      "text/html": [
       "<style>#sk-container-id-7 {color: black;background-color: white;}#sk-container-id-7 pre{padding: 0;}#sk-container-id-7 div.sk-toggleable {background-color: white;}#sk-container-id-7 label.sk-toggleable__label {cursor: pointer;display: block;width: 100%;margin-bottom: 0;padding: 0.3em;box-sizing: border-box;text-align: center;}#sk-container-id-7 label.sk-toggleable__label-arrow:before {content: \"▸\";float: left;margin-right: 0.25em;color: #696969;}#sk-container-id-7 label.sk-toggleable__label-arrow:hover:before {color: black;}#sk-container-id-7 div.sk-estimator:hover label.sk-toggleable__label-arrow:before {color: black;}#sk-container-id-7 div.sk-toggleable__content {max-height: 0;max-width: 0;overflow: hidden;text-align: left;background-color: #f0f8ff;}#sk-container-id-7 div.sk-toggleable__content pre {margin: 0.2em;color: black;border-radius: 0.25em;background-color: #f0f8ff;}#sk-container-id-7 input.sk-toggleable__control:checked~div.sk-toggleable__content {max-height: 200px;max-width: 100%;overflow: auto;}#sk-container-id-7 input.sk-toggleable__control:checked~label.sk-toggleable__label-arrow:before {content: \"▾\";}#sk-container-id-7 div.sk-estimator input.sk-toggleable__control:checked~label.sk-toggleable__label {background-color: #d4ebff;}#sk-container-id-7 div.sk-label input.sk-toggleable__control:checked~label.sk-toggleable__label {background-color: #d4ebff;}#sk-container-id-7 input.sk-hidden--visually {border: 0;clip: rect(1px 1px 1px 1px);clip: rect(1px, 1px, 1px, 1px);height: 1px;margin: -1px;overflow: hidden;padding: 0;position: absolute;width: 1px;}#sk-container-id-7 div.sk-estimator {font-family: monospace;background-color: #f0f8ff;border: 1px dotted black;border-radius: 0.25em;box-sizing: border-box;margin-bottom: 0.5em;}#sk-container-id-7 div.sk-estimator:hover {background-color: #d4ebff;}#sk-container-id-7 div.sk-parallel-item::after {content: \"\";width: 100%;border-bottom: 1px solid gray;flex-grow: 1;}#sk-container-id-7 div.sk-label:hover label.sk-toggleable__label {background-color: #d4ebff;}#sk-container-id-7 div.sk-serial::before {content: \"\";position: absolute;border-left: 1px solid gray;box-sizing: border-box;top: 0;bottom: 0;left: 50%;z-index: 0;}#sk-container-id-7 div.sk-serial {display: flex;flex-direction: column;align-items: center;background-color: white;padding-right: 0.2em;padding-left: 0.2em;position: relative;}#sk-container-id-7 div.sk-item {position: relative;z-index: 1;}#sk-container-id-7 div.sk-parallel {display: flex;align-items: stretch;justify-content: center;background-color: white;position: relative;}#sk-container-id-7 div.sk-item::before, #sk-container-id-7 div.sk-parallel-item::before {content: \"\";position: absolute;border-left: 1px solid gray;box-sizing: border-box;top: 0;bottom: 0;left: 50%;z-index: -1;}#sk-container-id-7 div.sk-parallel-item {display: flex;flex-direction: column;z-index: 1;position: relative;background-color: white;}#sk-container-id-7 div.sk-parallel-item:first-child::after {align-self: flex-end;width: 50%;}#sk-container-id-7 div.sk-parallel-item:last-child::after {align-self: flex-start;width: 50%;}#sk-container-id-7 div.sk-parallel-item:only-child::after {width: 0;}#sk-container-id-7 div.sk-dashed-wrapped {border: 1px dashed gray;margin: 0 0.4em 0.5em 0.4em;box-sizing: border-box;padding-bottom: 0.4em;background-color: white;}#sk-container-id-7 div.sk-label label {font-family: monospace;font-weight: bold;display: inline-block;line-height: 1.2em;}#sk-container-id-7 div.sk-label-container {text-align: center;}#sk-container-id-7 div.sk-container {/* jupyter's `normalize.less` sets `[hidden] { display: none; }` but bootstrap.min.css set `[hidden] { display: none !important; }` so we also need the `!important` here to be able to override the default hidden behavior on the sphinx rendered scikit-learn.org. See: https://github.com/scikit-learn/scikit-learn/issues/21755 */display: inline-block !important;position: relative;}#sk-container-id-7 div.sk-text-repr-fallback {display: none;}</style><div id=\"sk-container-id-7\" class=\"sk-top-container\"><div class=\"sk-text-repr-fallback\"><pre>XGBClassifier(base_score=0.5, booster=&#x27;gbtree&#x27;, callbacks=None,\n",
       "              colsample_bylevel=1, colsample_bynode=1, colsample_bytree=1,\n",
       "              early_stopping_rounds=None, enable_categorical=False,\n",
       "              eta=0.2449233044643096, eval_metric=None, feature_types=None,\n",
       "              gamma=0, gpu_id=-1, grow_policy=&#x27;depthwise&#x27;, importance_type=None,\n",
       "              interaction_constraints=&#x27;&#x27;, learning_rate=0.244923308,\n",
       "              max_bin=256, max_cat_threshold=64, max_cat_to_onehot=4,\n",
       "              max_delta_step=0, max_depth=13, max_leaves=0, min_child_weight=1,\n",
       "              missing=nan, monotone_constraints=&#x27;()&#x27;, n_estimators=100,\n",
       "              n_jobs=0, num_parallel_tree=1, objective=&#x27;multi:softprob&#x27;, ...)</pre><b>In a Jupyter environment, please rerun this cell to show the HTML representation or trust the notebook. <br />On GitHub, the HTML representation is unable to render, please try loading this page with nbviewer.org.</b></div><div class=\"sk-container\" hidden><div class=\"sk-item\"><div class=\"sk-estimator sk-toggleable\"><input class=\"sk-toggleable__control sk-hidden--visually\" id=\"sk-estimator-id-7\" type=\"checkbox\" checked><label for=\"sk-estimator-id-7\" class=\"sk-toggleable__label sk-toggleable__label-arrow\">XGBClassifier</label><div class=\"sk-toggleable__content\"><pre>XGBClassifier(base_score=0.5, booster=&#x27;gbtree&#x27;, callbacks=None,\n",
       "              colsample_bylevel=1, colsample_bynode=1, colsample_bytree=1,\n",
       "              early_stopping_rounds=None, enable_categorical=False,\n",
       "              eta=0.2449233044643096, eval_metric=None, feature_types=None,\n",
       "              gamma=0, gpu_id=-1, grow_policy=&#x27;depthwise&#x27;, importance_type=None,\n",
       "              interaction_constraints=&#x27;&#x27;, learning_rate=0.244923308,\n",
       "              max_bin=256, max_cat_threshold=64, max_cat_to_onehot=4,\n",
       "              max_delta_step=0, max_depth=13, max_leaves=0, min_child_weight=1,\n",
       "              missing=nan, monotone_constraints=&#x27;()&#x27;, n_estimators=100,\n",
       "              n_jobs=0, num_parallel_tree=1, objective=&#x27;multi:softprob&#x27;, ...)</pre></div></div></div></div></div>"
      ],
      "text/plain": [
       "XGBClassifier(base_score=0.5, booster='gbtree', callbacks=None,\n",
       "              colsample_bylevel=1, colsample_bynode=1, colsample_bytree=1,\n",
       "              early_stopping_rounds=None, enable_categorical=False,\n",
       "              eta=0.2449233044643096, eval_metric=None, feature_types=None,\n",
       "              gamma=0, gpu_id=-1, grow_policy='depthwise', importance_type=None,\n",
       "              interaction_constraints='', learning_rate=0.244923308,\n",
       "              max_bin=256, max_cat_threshold=64, max_cat_to_onehot=4,\n",
       "              max_delta_step=0, max_depth=13, max_leaves=0, min_child_weight=1,\n",
       "              missing=nan, monotone_constraints='()', n_estimators=100,\n",
       "              n_jobs=0, num_parallel_tree=1, objective='multi:softprob', ...)"
      ]
     },
     "execution_count": 295,
     "metadata": {},
     "output_type": "execute_result"
    }
   ],
   "source": [
    "xgb_final_model = XGBClassifier(random_state=42,\n",
    "                          eta=0.2449233044643096,\n",
    "                          max_depth=13,\n",
    "                          min_child_weight=1,\n",
    "                          subsample=0.6155850256247313)\n",
    "\n",
    "xgb_final_model.fit(x_train6, y_train6)"
   ]
  },
  {
   "cell_type": "code",
   "execution_count": 296,
   "metadata": {},
   "outputs": [
    {
     "name": "stdout",
     "output_type": "stream",
     "text": [
      "테스트 정확도:  0.9212598425196851\n",
      "테스트 recall:  0.9212598425196851\n",
      "테스트 Precision:  0.9252445717012646\n",
      "테스트 F1-score:  0.9220573926299338\n"
     ]
    }
   ],
   "source": [
    "y_test_pred = xgb_final_model.predict(x_test6)\n",
    "print(\"테스트 정확도: \", accuracy_score(y_test6, y_test_pred))\n",
    "print(\"테스트 recall: \", recall_score(y_test6, y_test_pred, average='weighted'))\n",
    "print(\"테스트 Precision: \", precision_score(y_test6, y_test_pred, average='weighted'))\n",
    "print(\"테스트 F1-score: \", f1_score(y_test6, y_test_pred, average='weighted'))"
   ]
  },
  {
   "cell_type": "markdown",
   "metadata": {},
   "source": [
    "0 -> Bumps\n",
    "1 -> Dirtiness\n",
    "2 -> K_Scatch\n",
    "3 -> Pastry\n",
    "4 -> Stains\n",
    "5 -> Z_Scratch"
   ]
  },
  {
   "cell_type": "code",
   "execution_count": 297,
   "metadata": {},
   "outputs": [
    {
     "data": {
      "image/png": "[encoded data removed]",
      "text/plain": [
       "<Figure size 500x300 with 1 Axes>"
      ]
     },
     "metadata": {},
     "output_type": "display_data"
    }
   ],
   "source": [
    "from sklearn.metrics import confusion_matrix\n",
    "\n",
    "plt.figure(figsize = (5, 3))\n",
    "sns.heatmap(confusion_matrix(y_test6, y_test_pred), cmap = 'Blues',\n",
    "            cbar = False, annot = True, annot_kws = {'size' : 15},\n",
    "            fmt = '.0f',\n",
    "            linecolor = 'k', linewidths = 0.8)\n",
    "plt.xlabel('Predicted')\n",
    "plt.ylabel('Actual')\n",
    "plt.show()"
   ]
  },
  {
   "cell_type": "code",
   "execution_count": 298,
   "metadata": {},
   "outputs": [
    {
     "name": "stdout",
     "output_type": "stream",
     "text": [
      "              precision    recall  f1-score   support\n",
      "\n",
      "           0       0.91      0.86      0.89        81\n",
      "           1       0.73      1.00      0.85        11\n",
      "           2       1.00      0.99      0.99        78\n",
      "           3       0.76      0.78      0.77        32\n",
      "           4       0.93      1.00      0.97        14\n",
      "           5       1.00      0.97      0.99        38\n",
      "\n",
      "    accuracy                           0.92       254\n",
      "   macro avg       0.89      0.93      0.91       254\n",
      "weighted avg       0.93      0.92      0.92       254\n",
      "\n"
     ]
    }
   ],
   "source": [
    "from sklearn.metrics import classification_report\n",
    "\n",
    "print(classification_report(y_test6, y_test_pred))"
   ]
  },
  {
   "cell_type": "code",
   "execution_count": 299,
   "metadata": {},
   "outputs": [],
   "source": [
    "import pickle\n",
    "\n",
    "# 모델 피클링 (저장)\n",
    "with open('xgb_model_multy.pkl', 'wb') as file:\n",
    "    pickle.dump(xgb_final_model, file)"
   ]
  },
  {
   "cell_type": "code",
   "execution_count": 300,
   "metadata": {},
   "outputs": [],
   "source": [
    "with open('xgb_scaler_multy.pkl', 'wb') as file:\n",
    "    pickle.dump(scaler6, file)"
   ]
  }
 ],
 "metadata": {
  "kernelspec": {
   "display_name": "Python 3",
   "language": "python",
   "name": "python3"
  },
  "language_info": {
   "codemirror_mode": {
    "name": "ipython",
    "version": 3
   },
   "file_extension": ".py",
   "mimetype": "text/x-python",
   "name": "python",
   "nbconvert_exporter": "python",
   "pygments_lexer": "ipython3",
   "version": "3.9.13"
  },
  "orig_nbformat": 4
 },
 "nbformat": 4,
 "nbformat_minor": 2
}
