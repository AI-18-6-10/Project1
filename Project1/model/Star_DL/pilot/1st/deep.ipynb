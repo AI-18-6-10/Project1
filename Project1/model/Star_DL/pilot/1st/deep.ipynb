{
  "cells": [
    {
      "cell_type": "code",
      "execution_count": 3,
      "metadata": {},
      "outputs": [],
      "source": [
        "#상위 폴더 binary_load.py파일 불러오기 위해 경로 추가\n",
        "import sys\n",
        "sys.path.append('../')  # 상위 폴더(main_folder)의 경로를 추가\n",
        "\n",
        "from binary_load import binary_load_dataset"
      ]
    },
    {
      "cell_type": "code",
      "execution_count": 24,
      "metadata": {
        "id": "D2WvlD20Lryu"
      },
      "outputs": [],
      "source": [
        "import pandas as pd\n",
        "import numpy as np\n",
        "import tensorflow as tf\n",
        "from sklearn.model_selection import train_test_split, GridSearchCV\n",
        "from sklearn.preprocessing import StandardScaler, MinMaxScaler\n",
        "from sklearn import metrics\n",
        "from imblearn.over_sampling import ADASYN\n",
        "\n",
        "from scikeras.wrappers import KerasClassifier\n",
        "\n",
        "from tensorflow.keras.models import Sequential\n",
        "from tensorflow import keras\n",
        "from tensorflow.keras import layers as Layer\n",
        "from tensorflow.keras.metrics import Recall, Precision, Accuracy"
      ]
    },
    {
      "cell_type": "code",
      "execution_count": 5,
      "metadata": {
        "id": "J40s4y5fy8MF"
      },
      "outputs": [],
      "source": [
        "csv_loca = \"../../../../data/Star.csv\"\n",
        "TEST_SIZE = 0.2\n",
        "VAL_SIZE = 0.2\n",
        "RANDOM_STATE = 42"
      ]
    },
    {
      "cell_type": "code",
      "execution_count": 6,
      "metadata": {
        "id": "u_q84By2zyAH"
      },
      "outputs": [],
      "source": [
        "def modelling():\n",
        "  # 모델 만들기\n",
        "  # 뉴런의 개수는 input과 output 사이의 숫자를 넣으라고 한다. --> 사용, 왜냐하면 시간이 적게 걸려서\n",
        "  # 뉴런의 개수는 input의 2/3 정도 넣라고 한다.\n",
        "  # 뉴런의 개수는 input의 두배보다는 적게 넣라고 한다.\n",
        "  model = Sequential([Layer.Dense(6, input_shape)])\n",
        "  model.add(Layer.Dense())"
      ]
    },
    {
      "cell_type": "code",
      "execution_count": 11,
      "metadata": {
        "colab": {
          "base_uri": "https://localhost:8080/"
        },
        "id": "6rudcT08TGqV",
        "outputId": "c4d26120-d77e-448a-8b31-d3cd256e909e"
      },
      "outputs": [
        {
          "data": {
            "text/plain": [
              "((11454, 8), (11454,), (2864, 8), (2864,), (3580, 8), (3580,))"
            ]
          },
          "execution_count": 11,
          "metadata": {},
          "output_type": "execute_result"
        }
      ],
      "source": [
        "X_train, X_val, X_test, y_train, y_val, y_test, X_train_ad, X_val_ad, X_test_ad, y_train_ad, y_val_ad, y_test_ad  = binary_load_dataset(csv_loca, TEST_SIZE, VAL_SIZE, RANDOM_STATE)\n",
        "X_train.shape, y_train.shape, X_val.shape, y_val.shape, X_test.shape, y_test.shape"
      ]
    },
    {
      "cell_type": "code",
      "execution_count": 14,
      "metadata": {
        "colab": {
          "base_uri": "https://localhost:8080/"
        },
        "id": "sf4rk7zs1Y_-",
        "outputId": "2a6817b9-6fae-40dc-c9f7-893215fb6076"
      },
      "outputs": [
        {
          "data": {
            "text/plain": [
              "((20711, 8), (20711,), (5178, 8), (5178,), (6473, 8), (6473,))"
            ]
          },
          "execution_count": 14,
          "metadata": {},
          "output_type": "execute_result"
        }
      ],
      "source": [
        "X_train_ad.shape, y_train_ad.shape, X_val_ad.shape, y_val_ad.shape, X_test_ad.shape, y_test_ad.shape"
      ]
    },
    {
      "cell_type": "code",
      "execution_count": 15,
      "metadata": {
        "colab": {
          "base_uri": "https://localhost:8080/"
        },
        "id": "Z2xuUlxGM2SA",
        "outputId": "d7fbe197-bc94-48a4-d906-bcb683706649"
      },
      "outputs": [
        {
          "name": "stdout",
          "output_type": "stream",
          "text": [
            "Epoch 1/30\n",
            "179/179 [==============================] - 0s 2ms/step - loss: 0.3083 - accuracy: 0.9034 - val_loss: 0.2552 - val_accuracy: 0.9085\n",
            "Epoch 2/30\n",
            "179/179 [==============================] - 0s 1ms/step - loss: 0.1813 - accuracy: 0.9327 - val_loss: 0.1260 - val_accuracy: 0.9595\n",
            "Epoch 3/30\n",
            "179/179 [==============================] - 0s 1ms/step - loss: 0.1161 - accuracy: 0.9612 - val_loss: 0.1035 - val_accuracy: 0.9675\n",
            "Epoch 4/30\n",
            "179/179 [==============================] - 0s 1ms/step - loss: 0.1024 - accuracy: 0.9676 - val_loss: 0.0971 - val_accuracy: 0.9689\n",
            "Epoch 5/30\n",
            "179/179 [==============================] - 0s 1ms/step - loss: 0.0968 - accuracy: 0.9706 - val_loss: 0.1006 - val_accuracy: 0.9679\n",
            "Epoch 6/30\n",
            "179/179 [==============================] - 0s 1ms/step - loss: 0.0943 - accuracy: 0.9717 - val_loss: 0.0994 - val_accuracy: 0.9682\n",
            "Epoch 7/30\n",
            "179/179 [==============================] - 0s 1ms/step - loss: 0.0928 - accuracy: 0.9728 - val_loss: 0.0938 - val_accuracy: 0.9717\n",
            "Epoch 8/30\n",
            "179/179 [==============================] - 0s 1ms/step - loss: 0.0898 - accuracy: 0.9726 - val_loss: 0.0913 - val_accuracy: 0.9742\n",
            "Epoch 9/30\n",
            "179/179 [==============================] - 0s 1ms/step - loss: 0.0907 - accuracy: 0.9730 - val_loss: 0.0932 - val_accuracy: 0.9717\n",
            "Epoch 10/30\n",
            "179/179 [==============================] - 0s 1ms/step - loss: 0.0922 - accuracy: 0.9728 - val_loss: 0.0948 - val_accuracy: 0.9717\n",
            "Epoch 11/30\n",
            "179/179 [==============================] - 0s 1ms/step - loss: 0.0885 - accuracy: 0.9739 - val_loss: 0.0948 - val_accuracy: 0.9717\n",
            "Epoch 12/30\n",
            "179/179 [==============================] - 0s 1ms/step - loss: 0.0889 - accuracy: 0.9737 - val_loss: 0.0927 - val_accuracy: 0.9731\n",
            "Epoch 13/30\n",
            "179/179 [==============================] - 0s 1ms/step - loss: 0.0882 - accuracy: 0.9738 - val_loss: 0.0908 - val_accuracy: 0.9735\n",
            "Epoch 14/30\n",
            "179/179 [==============================] - 0s 1ms/step - loss: 0.0863 - accuracy: 0.9745 - val_loss: 0.0969 - val_accuracy: 0.9714\n",
            "Epoch 15/30\n",
            "179/179 [==============================] - 0s 1ms/step - loss: 0.0860 - accuracy: 0.9743 - val_loss: 0.0878 - val_accuracy: 0.9745\n",
            "Epoch 16/30\n",
            "179/179 [==============================] - 0s 1ms/step - loss: 0.0865 - accuracy: 0.9749 - val_loss: 0.0881 - val_accuracy: 0.9752\n",
            "Epoch 17/30\n",
            "179/179 [==============================] - 0s 1ms/step - loss: 0.0860 - accuracy: 0.9746 - val_loss: 0.0883 - val_accuracy: 0.9742\n",
            "Epoch 18/30\n",
            "179/179 [==============================] - 0s 1ms/step - loss: 0.0846 - accuracy: 0.9749 - val_loss: 0.1015 - val_accuracy: 0.9735\n",
            "Epoch 19/30\n",
            "179/179 [==============================] - 0s 1ms/step - loss: 0.0840 - accuracy: 0.9756 - val_loss: 0.0897 - val_accuracy: 0.9738\n",
            "Epoch 20/30\n",
            "179/179 [==============================] - 0s 1ms/step - loss: 0.0840 - accuracy: 0.9747 - val_loss: 0.0883 - val_accuracy: 0.9738\n",
            "Epoch 21/30\n",
            "179/179 [==============================] - 0s 1ms/step - loss: 0.0844 - accuracy: 0.9746 - val_loss: 0.0868 - val_accuracy: 0.9752\n",
            "Epoch 22/30\n",
            "179/179 [==============================] - 0s 1ms/step - loss: 0.0840 - accuracy: 0.9750 - val_loss: 0.0869 - val_accuracy: 0.9745\n",
            "Epoch 23/30\n",
            "179/179 [==============================] - 0s 1ms/step - loss: 0.0833 - accuracy: 0.9751 - val_loss: 0.0878 - val_accuracy: 0.9745\n",
            "Epoch 24/30\n",
            "179/179 [==============================] - 0s 1ms/step - loss: 0.0859 - accuracy: 0.9752 - val_loss: 0.0862 - val_accuracy: 0.9752\n",
            "Epoch 25/30\n",
            "179/179 [==============================] - 0s 1ms/step - loss: 0.0825 - accuracy: 0.9753 - val_loss: 0.0870 - val_accuracy: 0.9759\n",
            "Epoch 26/30\n",
            "179/179 [==============================] - 0s 1ms/step - loss: 0.0815 - accuracy: 0.9756 - val_loss: 0.0945 - val_accuracy: 0.9728\n",
            "Epoch 27/30\n",
            "179/179 [==============================] - 0s 1ms/step - loss: 0.0832 - accuracy: 0.9754 - val_loss: 0.0857 - val_accuracy: 0.9752\n",
            "Epoch 28/30\n",
            "179/179 [==============================] - 0s 1ms/step - loss: 0.0817 - accuracy: 0.9763 - val_loss: 0.0888 - val_accuracy: 0.9752\n",
            "Epoch 29/30\n",
            "179/179 [==============================] - 0s 1ms/step - loss: 0.0828 - accuracy: 0.9761 - val_loss: 0.0865 - val_accuracy: 0.9749\n",
            "Epoch 30/30\n",
            "179/179 [==============================] - 0s 1ms/step - loss: 0.0819 - accuracy: 0.9762 - val_loss: 0.0886 - val_accuracy: 0.9752\n"
          ]
        }
      ],
      "source": [
        "model2 = Sequential()\n",
        "model2.add(Layer.Dense(256, activation='sigmoid'))\n",
        "model2.add(Layer.Dense(256, activation='sigmoid'))\n",
        "model2.add(Layer.Dense(1, activation='sigmoid'))\n",
        "\n",
        "model2.compile(optimizer='adam',\n",
        "              loss='binary_crossentropy',\n",
        "              metrics=['accuracy'])\n",
        "\n",
        "results = model2.fit(X_train, y_train, batch_size = 64, epochs=30, validation_data=(X_val,y_val))"
      ]
    },
    {
      "cell_type": "code",
      "execution_count": 17,
      "metadata": {
        "colab": {
          "base_uri": "https://localhost:8080/"
        },
        "id": "HH5g7QhpM4b4",
        "outputId": "b0b80c44-c31f-4339-a8d4-096acd976d37"
      },
      "outputs": [
        {
          "name": "stdout",
          "output_type": "stream",
          "text": [
            "112/112 - 0s - loss: 0.0774 - accuracy: 0.9799 - 71ms/epoch - 637us/step\n"
          ]
        },
        {
          "data": {
            "text/plain": [
              "[0.07735904306173325, 0.9798882603645325]"
            ]
          },
          "execution_count": 17,
          "metadata": {},
          "output_type": "execute_result"
        }
      ],
      "source": [
        "model2.evaluate(X_test,  y_test, verbose=2)"
      ]
    },
    {
      "cell_type": "code",
      "execution_count": 18,
      "metadata": {
        "colab": {
          "base_uri": "https://localhost:8080/"
        },
        "id": "Xzts95NzoN4v",
        "outputId": "25358d62-414a-411d-ffb0-67ff0f3bd7e4"
      },
      "outputs": [
        {
          "name": "stdout",
          "output_type": "stream",
          "text": [
            "112/112 [==============================] - 0s 567us/step\n"
          ]
        },
        {
          "data": {
            "text/plain": [
              "array([[0.00198126],\n",
              "       [0.04162319],\n",
              "       [0.00348267],\n",
              "       ...,\n",
              "       [0.02693617],\n",
              "       [0.00068501],\n",
              "       [0.04364026]], dtype=float32)"
            ]
          },
          "execution_count": 18,
          "metadata": {},
          "output_type": "execute_result"
        }
      ],
      "source": [
        "y_test_pred = model2.predict(X_test)\n",
        "\n",
        "y_test_pred"
      ]
    },
    {
      "cell_type": "code",
      "execution_count": 19,
      "metadata": {
        "colab": {
          "base_uri": "https://localhost:8080/"
        },
        "id": "Ba4-Nsr6qFeK",
        "outputId": "af4a8197-0108-401a-93d7-8b2f91193c5c"
      },
      "outputs": [
        {
          "data": {
            "text/plain": [
              "array([[0.],\n",
              "       [0.],\n",
              "       [0.],\n",
              "       ...,\n",
              "       [0.],\n",
              "       [0.],\n",
              "       [0.]], dtype=float32)"
            ]
          },
          "execution_count": 19,
          "metadata": {},
          "output_type": "execute_result"
        }
      ],
      "source": [
        "y_test_pred = (y_test_pred > 0.5).astype(np.float32)\n",
        "\n",
        "y_test_pred"
      ]
    },
    {
      "cell_type": "code",
      "execution_count": 20,
      "metadata": {
        "colab": {
          "base_uri": "https://localhost:8080/",
          "height": 112
        },
        "id": "NnY9GZaVo8fp",
        "outputId": "a05368a1-15f7-44ea-bffd-75a5df015612"
      },
      "outputs": [
        {
          "data": {
            "text/html": [
              "<div>\n",
              "<style scoped>\n",
              "    .dataframe tbody tr th:only-of-type {\n",
              "        vertical-align: middle;\n",
              "    }\n",
              "\n",
              "    .dataframe tbody tr th {\n",
              "        vertical-align: top;\n",
              "    }\n",
              "\n",
              "    .dataframe thead th {\n",
              "        text-align: right;\n",
              "    }\n",
              "</style>\n",
              "<table border=\"1\" class=\"dataframe\">\n",
              "  <thead>\n",
              "    <tr style=\"text-align: right;\">\n",
              "      <th></th>\n",
              "      <th>Predicted 0</th>\n",
              "      <th>Predicted 1</th>\n",
              "    </tr>\n",
              "  </thead>\n",
              "  <tbody>\n",
              "    <tr>\n",
              "      <th>True 0</th>\n",
              "      <td>3231</td>\n",
              "      <td>21</td>\n",
              "    </tr>\n",
              "    <tr>\n",
              "      <th>True 1</th>\n",
              "      <td>51</td>\n",
              "      <td>277</td>\n",
              "    </tr>\n",
              "  </tbody>\n",
              "</table>\n",
              "</div>"
            ],
            "text/plain": [
              "        Predicted 0  Predicted 1\n",
              "True 0         3231           21\n",
              "True 1           51          277"
            ]
          },
          "execution_count": 20,
          "metadata": {},
          "output_type": "execute_result"
        }
      ],
      "source": [
        "import matplotlib.pyplot as plt\n",
        "from sklearn.metrics import confusion_matrix\n",
        "\n",
        "cm = confusion_matrix(y_test, y_test_pred)\n",
        "\n",
        "cm = pd.DataFrame(cm)\n",
        "cm.columns = ['Predicted 0', 'Predicted 1']\n",
        "cm.rename(index={0: \"True 0\", 1: \"True 1\"}, inplace = True)\n",
        "cm"
      ]
    },
    {
      "cell_type": "code",
      "execution_count": 29,
      "metadata": {
        "colab": {
          "base_uri": "https://localhost:8080/"
        },
        "id": "WfWozL6JqR7K",
        "outputId": "ecf939d0-1da4-4b74-92f0-1a61a8bfa32b"
      },
      "outputs": [
        {
          "name": "stdout",
          "output_type": "stream",
          "text": [
            "              precision    recall  f1-score   support\n",
            "\n",
            "           0       0.98      0.99      0.99      3252\n",
            "           1       0.93      0.84      0.88       328\n",
            "\n",
            "    accuracy                           0.98      3580\n",
            "   macro avg       0.96      0.92      0.94      3580\n",
            "weighted avg       0.98      0.98      0.98      3580\n",
            "\n"
          ]
        }
      ],
      "source": [
        "from sklearn.metrics import classification_report\n",
        "print(classification_report(y_test, y_test_pred))"
      ]
    },
    {
      "cell_type": "code",
      "execution_count": 22,
      "metadata": {
        "colab": {
          "base_uri": "https://localhost:8080/"
        },
        "id": "n9E661HxTdhI",
        "outputId": "f7edf13e-ec7d-42fe-c924-756c64e7d674"
      },
      "outputs": [
        {
          "data": {
            "text/plain": [
              "False"
            ]
          },
          "execution_count": 22,
          "metadata": {},
          "output_type": "execute_result"
        }
      ],
      "source": [
        "np.any(np.isnan(y_train))"
      ]
    },
    {
      "cell_type": "code",
      "execution_count": 46,
      "metadata": {
        "colab": {
          "base_uri": "https://localhost:8080/"
        },
        "id": "B3as4SDfQAis",
        "outputId": "9403db37-0d54-4f49-d874-cef762eb98f1"
      },
      "outputs": [
        {
          "name": "stdout",
          "output_type": "stream",
          "text": [
            "Fitting 3 folds for each of 27 candidates, totalling 81 fits\n"
          ]
        }
      ],
      "source": [
        "tf.random.set_seed(7)\n",
        "\n",
        "def model_builder(nodes=16, activation='relu'):\n",
        "\n",
        "  model = Sequential()\n",
        "  model.add(Layer.Dense(nodes, input_dim=8, activation=activation))\n",
        "  model.add(Layer.Dense(nodes, activation=activation))\n",
        "  model.add(Layer.Dense(1, activation='sigmoid')) # 이진분류니까 노드수 1, 활성함수로는 시그모이드\n",
        "\n",
        "  model.compile(optimizer='adam',\n",
        "                loss='binary_crossentropy',\n",
        "                metrics=['accuracy'])\n",
        "\n",
        "  return model\n",
        "\n",
        "# keras.wrapper를 활용하여 분류기를 만듭니다\n",
        "model = KerasClassifier(model=model_builder, batch_size=8, verbose=0)\n",
        "\n",
        "# GridSearch\n",
        "batch_size=[64, 128, 256]\n",
        "epochs=[10, 20, 30]\n",
        "nodes=[64, 128, 256]\n",
        "activation=['sigmoid']\n",
        "param_grid=dict(batch_size=batch_size, epochs=epochs, model__nodes=nodes, model__activation=activation)\n",
        "\n",
        "\n",
        "# GridSearch CV를 만들기\n",
        "grid = GridSearchCV(estimator=model, param_grid=param_grid, cv=3, verbose=1, n_jobs=-1)\n",
        "grid_result = grid.fit(X_train, y_train)"
      ]
    },
    {
      "cell_type": "code",
      "execution_count": 27,
      "metadata": {
        "colab": {
          "base_uri": "https://localhost:8080/"
        },
        "id": "ZG1rnHeVTpRQ",
        "outputId": "bc936430-ceb9-4e76-84f1-78b925d6a743"
      },
      "outputs": [
        {
          "name": "stdout",
          "output_type": "stream",
          "text": [
            "Best: 0.9760782259472673 using {'batch_size': 64, 'epochs': 30, 'model__activation': 'sigmoid', 'model__nodes': 256}\n",
            "Means: 0.9712764099877772, Stdev: 0.0016050965872926727 with: {'batch_size': 64, 'epochs': 10, 'model__activation': 'sigmoid', 'model__nodes': 64}\n",
            "Means: 0.9717129387113673, Stdev: 0.0019007806056467057 with: {'batch_size': 64, 'epochs': 10, 'model__activation': 'sigmoid', 'model__nodes': 128}\n",
            "Means: 0.9722367731796752, Stdev: 0.002352399787900706 with: {'batch_size': 64, 'epochs': 10, 'model__activation': 'sigmoid', 'model__nodes': 256}\n",
            "Means: 0.9733717478610092, Stdev: 0.0012346896825328245 with: {'batch_size': 64, 'epochs': 20, 'model__activation': 'sigmoid', 'model__nodes': 64}\n",
            "Means: 0.9746813340317794, Stdev: 0.0012890538729031912 with: {'batch_size': 64, 'epochs': 20, 'model__activation': 'sigmoid', 'model__nodes': 128}\n",
            "Means: 0.9745067225423433, Stdev: 0.0019404671530376296 with: {'batch_size': 64, 'epochs': 20, 'model__activation': 'sigmoid', 'model__nodes': 256}\n",
            "Means: 0.9747686397764973, Stdev: 0.0011778188897531002 with: {'batch_size': 64, 'epochs': 30, 'model__activation': 'sigmoid', 'model__nodes': 64}\n",
            "Means: 0.9739828880740352, Stdev: 0.0020989724603058223 with: {'batch_size': 64, 'epochs': 30, 'model__activation': 'sigmoid', 'model__nodes': 128}\n",
            "Means: 0.9760782259472673, Stdev: 0.0023556377795062003 with: {'batch_size': 64, 'epochs': 30, 'model__activation': 'sigmoid', 'model__nodes': 256}\n",
            "Means: 0.9437751004016065, Stdev: 0.024786222396679554 with: {'batch_size': 128, 'epochs': 10, 'model__activation': 'sigmoid', 'model__nodes': 64}\n",
            "Means: 0.9674349572201851, Stdev: 0.00275808782939258 with: {'batch_size': 128, 'epochs': 10, 'model__activation': 'sigmoid', 'model__nodes': 128}\n",
            "Means: 0.9715383272219311, Stdev: 0.0009643234692847194 with: {'batch_size': 128, 'epochs': 10, 'model__activation': 'sigmoid', 'model__nodes': 256}\n",
            "Means: 0.9712764099877772, Stdev: 0.0007510324137456675 with: {'batch_size': 128, 'epochs': 20, 'model__activation': 'sigmoid', 'model__nodes': 64}\n",
            "Means: 0.9735463593504452, Stdev: 0.0013355210878975112 with: {'batch_size': 128, 'epochs': 20, 'model__activation': 'sigmoid', 'model__nodes': 128}\n",
            "Means: 0.9741574995634713, Stdev: 0.0015172120828516394 with: {'batch_size': 128, 'epochs': 20, 'model__activation': 'sigmoid', 'model__nodes': 256}\n",
            "Means: 0.9731098306268553, Stdev: 0.0015172120828516394 with: {'batch_size': 128, 'epochs': 30, 'model__activation': 'sigmoid', 'model__nodes': 64}\n",
            "Means: 0.9731971363715731, Stdev: 0.0023459103968123253 with: {'batch_size': 128, 'epochs': 30, 'model__activation': 'sigmoid', 'model__nodes': 128}\n",
            "Means: 0.9734590536057274, Stdev: 0.0024036842846055684 with: {'batch_size': 128, 'epochs': 30, 'model__activation': 'sigmoid', 'model__nodes': 256}\n",
            "Means: 0.9084162737908154, Stdev: 0.0001234689682532929 with: {'batch_size': 256, 'epochs': 10, 'model__activation': 'sigmoid', 'model__nodes': 64}\n",
            "Means: 0.9211629125196437, Stdev: 0.017232216719310463 with: {'batch_size': 256, 'epochs': 10, 'model__activation': 'sigmoid', 'model__nodes': 128}\n",
            "Means: 0.9573074908328968, Stdev: 0.005190104399406943 with: {'batch_size': 256, 'epochs': 10, 'model__activation': 'sigmoid', 'model__nodes': 256}\n",
            "Means: 0.961323555089925, Stdev: 0.008205811166411149 with: {'batch_size': 256, 'epochs': 20, 'model__activation': 'sigmoid', 'model__nodes': 64}\n",
            "Means: 0.9697049065828532, Stdev: 0.0018684245293376074 with: {'batch_size': 256, 'epochs': 20, 'model__activation': 'sigmoid', 'model__nodes': 128}\n",
            "Means: 0.9712764099877772, Stdev: 0.0025869621774103806 with: {'batch_size': 256, 'epochs': 20, 'model__activation': 'sigmoid', 'model__nodes': 256}\n",
            "Means: 0.9713637157324951, Stdev: 0.0025692227989457203 with: {'batch_size': 256, 'epochs': 30, 'model__activation': 'sigmoid', 'model__nodes': 64}\n",
            "Means: 0.9720621616902393, Stdev: 0.0017934903600640923 with: {'batch_size': 256, 'epochs': 30, 'model__activation': 'sigmoid', 'model__nodes': 128}\n",
            "Means: 0.9725859961585472, Stdev: 0.0017934903600640923 with: {'batch_size': 256, 'epochs': 30, 'model__activation': 'sigmoid', 'model__nodes': 256}\n"
          ]
        }
      ],
      "source": [
        "print(f\"Best: {grid_result.best_score_} using {grid_result.best_params_}\")\n",
        "means = grid_result.cv_results_['mean_test_score']\n",
        "stds = grid_result.cv_results_['std_test_score']\n",
        "params = grid_result.cv_results_['params']\n",
        "for mean, stdev, param in zip(means, stds, params):\n",
        "    print(f\"Means: {mean}, Stdev: {stdev} with: {param}\")"
      ]
    },
    {
      "cell_type": "code",
      "execution_count": 28,
      "metadata": {},
      "outputs": [
        {
          "name": "stdout",
          "output_type": "stream",
          "text": [
            "Epoch 1/30\n",
            "324/324 [==============================] - 1s 1ms/step - loss: 0.6231 - accuracy: 0.6384 - val_loss: 0.5126 - val_accuracy: 0.7710\n",
            "Epoch 2/30\n",
            "324/324 [==============================] - 0s 1ms/step - loss: 0.4864 - accuracy: 0.7702 - val_loss: 0.4363 - val_accuracy: 0.7899\n",
            "Epoch 3/30\n",
            "324/324 [==============================] - 0s 1ms/step - loss: 0.4341 - accuracy: 0.7913 - val_loss: 0.4173 - val_accuracy: 0.8019\n",
            "Epoch 4/30\n",
            "324/324 [==============================] - 0s 1ms/step - loss: 0.4193 - accuracy: 0.7983 - val_loss: 0.4047 - val_accuracy: 0.8048\n",
            "Epoch 5/30\n",
            "324/324 [==============================] - 0s 1ms/step - loss: 0.4108 - accuracy: 0.8034 - val_loss: 0.4005 - val_accuracy: 0.8069\n",
            "Epoch 6/30\n",
            "324/324 [==============================] - 0s 1ms/step - loss: 0.4111 - accuracy: 0.8038 - val_loss: 0.3921 - val_accuracy: 0.8098\n",
            "Epoch 7/30\n",
            "324/324 [==============================] - 0s 1ms/step - loss: 0.4001 - accuracy: 0.8085 - val_loss: 0.4134 - val_accuracy: 0.8044\n",
            "Epoch 8/30\n",
            "324/324 [==============================] - 0s 1ms/step - loss: 0.3989 - accuracy: 0.8108 - val_loss: 0.3928 - val_accuracy: 0.8069\n",
            "Epoch 9/30\n",
            "324/324 [==============================] - 0s 1ms/step - loss: 0.3963 - accuracy: 0.8104 - val_loss: 0.4231 - val_accuracy: 0.7955\n",
            "Epoch 10/30\n",
            "324/324 [==============================] - 0s 1ms/step - loss: 0.3957 - accuracy: 0.8111 - val_loss: 0.3854 - val_accuracy: 0.8188\n",
            "Epoch 11/30\n",
            "324/324 [==============================] - 0s 1ms/step - loss: 0.3946 - accuracy: 0.8123 - val_loss: 0.3830 - val_accuracy: 0.8196\n",
            "Epoch 12/30\n",
            "324/324 [==============================] - 0s 1ms/step - loss: 0.3926 - accuracy: 0.8124 - val_loss: 0.3882 - val_accuracy: 0.8196\n",
            "Epoch 13/30\n",
            "324/324 [==============================] - 0s 1ms/step - loss: 0.3895 - accuracy: 0.8153 - val_loss: 0.3881 - val_accuracy: 0.8188\n",
            "Epoch 14/30\n",
            "324/324 [==============================] - 0s 1ms/step - loss: 0.3878 - accuracy: 0.8173 - val_loss: 0.3887 - val_accuracy: 0.8071\n",
            "Epoch 15/30\n",
            "324/324 [==============================] - 0s 1ms/step - loss: 0.3866 - accuracy: 0.8168 - val_loss: 0.4020 - val_accuracy: 0.8187\n",
            "Epoch 16/30\n",
            "324/324 [==============================] - 0s 1ms/step - loss: 0.3868 - accuracy: 0.8160 - val_loss: 0.3827 - val_accuracy: 0.8119\n",
            "Epoch 17/30\n",
            "324/324 [==============================] - 0s 1ms/step - loss: 0.3862 - accuracy: 0.8173 - val_loss: 0.3748 - val_accuracy: 0.8237\n",
            "Epoch 18/30\n",
            "324/324 [==============================] - 0s 1ms/step - loss: 0.3870 - accuracy: 0.8170 - val_loss: 0.3744 - val_accuracy: 0.8241\n",
            "Epoch 19/30\n",
            "324/324 [==============================] - 0s 1ms/step - loss: 0.3837 - accuracy: 0.8171 - val_loss: 0.3827 - val_accuracy: 0.8107\n",
            "Epoch 20/30\n",
            "324/324 [==============================] - 0s 1ms/step - loss: 0.3810 - accuracy: 0.8206 - val_loss: 0.3715 - val_accuracy: 0.8227\n",
            "Epoch 21/30\n",
            "324/324 [==============================] - 0s 1ms/step - loss: 0.3793 - accuracy: 0.8215 - val_loss: 0.3708 - val_accuracy: 0.8254\n",
            "Epoch 22/30\n",
            "324/324 [==============================] - 0s 1ms/step - loss: 0.3762 - accuracy: 0.8203 - val_loss: 0.3697 - val_accuracy: 0.8248\n",
            "Epoch 23/30\n",
            "324/324 [==============================] - 0s 1ms/step - loss: 0.3788 - accuracy: 0.8190 - val_loss: 0.3683 - val_accuracy: 0.8252\n",
            "Epoch 24/30\n",
            "324/324 [==============================] - 0s 1ms/step - loss: 0.3787 - accuracy: 0.8208 - val_loss: 0.3672 - val_accuracy: 0.8227\n",
            "Epoch 25/30\n",
            "324/324 [==============================] - 0s 1ms/step - loss: 0.3771 - accuracy: 0.8213 - val_loss: 0.3676 - val_accuracy: 0.8264\n",
            "Epoch 26/30\n",
            "324/324 [==============================] - 0s 1ms/step - loss: 0.3731 - accuracy: 0.8240 - val_loss: 0.3668 - val_accuracy: 0.8204\n",
            "Epoch 27/30\n",
            "324/324 [==============================] - 0s 1ms/step - loss: 0.3711 - accuracy: 0.8239 - val_loss: 0.3640 - val_accuracy: 0.8258\n",
            "Epoch 28/30\n",
            "324/324 [==============================] - 0s 1ms/step - loss: 0.3723 - accuracy: 0.8228 - val_loss: 0.3923 - val_accuracy: 0.8229\n",
            "Epoch 29/30\n",
            "324/324 [==============================] - 0s 1ms/step - loss: 0.3739 - accuracy: 0.8213 - val_loss: 0.3625 - val_accuracy: 0.8252\n",
            "Epoch 30/30\n",
            "324/324 [==============================] - 0s 1ms/step - loss: 0.3697 - accuracy: 0.8233 - val_loss: 0.3633 - val_accuracy: 0.8293\n"
          ]
        }
      ],
      "source": [
        "model2 = Sequential()\n",
        "model2.add(Layer.Dense(256, activation='sigmoid'))\n",
        "model2.add(Layer.Dense(256, activation='sigmoid'))\n",
        "model2.add(Layer.Dense(1, activation='sigmoid'))\n",
        "\n",
        "model2.compile(optimizer='adam',\n",
        "              loss='binary_crossentropy',\n",
        "              metrics=['accuracy'])\n",
        "\n",
        "results = model2.fit(X_train_ad, y_train_ad, batch_size = 64, epochs=30, validation_data=(X_val_ad,y_val_ad))"
      ]
    },
    {
      "cell_type": "code",
      "execution_count": 38,
      "metadata": {},
      "outputs": [
        {
          "name": "stdout",
          "output_type": "stream",
          "text": [
            "203/203 - 0s - loss: 0.3710 - accuracy: 0.8223 - 133ms/epoch - 655us/step\n"
          ]
        },
        {
          "data": {
            "text/plain": [
              "[0.37096211314201355, 0.8223389387130737]"
            ]
          },
          "execution_count": 38,
          "metadata": {},
          "output_type": "execute_result"
        }
      ],
      "source": [
        "model2.evaluate(X_test_ad,  y_test_ad, verbose=2)"
      ]
    },
    {
      "cell_type": "code",
      "execution_count": 39,
      "metadata": {},
      "outputs": [
        {
          "name": "stdout",
          "output_type": "stream",
          "text": [
            "203/203 [==============================] - 0s 479us/step\n"
          ]
        },
        {
          "data": {
            "text/plain": [
              "array([[0.43864447],\n",
              "       [0.96707976],\n",
              "       [0.99918574],\n",
              "       ...,\n",
              "       [0.2100063 ],\n",
              "       [0.11477936],\n",
              "       [0.81111944]], dtype=float32)"
            ]
          },
          "execution_count": 39,
          "metadata": {},
          "output_type": "execute_result"
        }
      ],
      "source": [
        "y_test_pred = model2.predict(X_test_ad)\n",
        "\n",
        "y_test_pred"
      ]
    },
    {
      "cell_type": "code",
      "execution_count": 40,
      "metadata": {},
      "outputs": [
        {
          "data": {
            "text/plain": [
              "array([[0.],\n",
              "       [1.],\n",
              "       [1.],\n",
              "       ...,\n",
              "       [0.],\n",
              "       [0.],\n",
              "       [1.]], dtype=float32)"
            ]
          },
          "execution_count": 40,
          "metadata": {},
          "output_type": "execute_result"
        }
      ],
      "source": [
        "y_test_pred = (y_test_pred > 0.5).astype(np.float32)\n",
        "\n",
        "y_test_pred"
      ]
    },
    {
      "cell_type": "code",
      "execution_count": 41,
      "metadata": {},
      "outputs": [
        {
          "data": {
            "text/html": [
              "<div>\n",
              "<style scoped>\n",
              "    .dataframe tbody tr th:only-of-type {\n",
              "        vertical-align: middle;\n",
              "    }\n",
              "\n",
              "    .dataframe tbody tr th {\n",
              "        vertical-align: top;\n",
              "    }\n",
              "\n",
              "    .dataframe thead th {\n",
              "        text-align: right;\n",
              "    }\n",
              "</style>\n",
              "<table border=\"1\" class=\"dataframe\">\n",
              "  <thead>\n",
              "    <tr style=\"text-align: right;\">\n",
              "      <th></th>\n",
              "      <th>Predicted 0</th>\n",
              "      <th>Predicted 1</th>\n",
              "    </tr>\n",
              "  </thead>\n",
              "  <tbody>\n",
              "    <tr>\n",
              "      <th>True 0</th>\n",
              "      <td>2892</td>\n",
              "      <td>361</td>\n",
              "    </tr>\n",
              "    <tr>\n",
              "      <th>True 1</th>\n",
              "      <td>789</td>\n",
              "      <td>2431</td>\n",
              "    </tr>\n",
              "  </tbody>\n",
              "</table>\n",
              "</div>"
            ],
            "text/plain": [
              "        Predicted 0  Predicted 1\n",
              "True 0         2892          361\n",
              "True 1          789         2431"
            ]
          },
          "execution_count": 41,
          "metadata": {},
          "output_type": "execute_result"
        }
      ],
      "source": [
        "import matplotlib.pyplot as plt\n",
        "from sklearn.metrics import confusion_matrix\n",
        "\n",
        "cm = confusion_matrix(y_test_ad, y_test_pred)\n",
        "\n",
        "cm = pd.DataFrame(cm)\n",
        "cm.columns = ['Predicted 0', 'Predicted 1']\n",
        "cm.rename(index={0: \"True 0\", 1: \"True 1\"}, inplace = True)\n",
        "cm"
      ]
    },
    {
      "cell_type": "code",
      "execution_count": 43,
      "metadata": {},
      "outputs": [
        {
          "name": "stdout",
          "output_type": "stream",
          "text": [
            "              precision    recall  f1-score   support\n",
            "\n",
            "           0       0.79      0.89      0.83      3253\n",
            "           1       0.87      0.75      0.81      3220\n",
            "\n",
            "    accuracy                           0.82      6473\n",
            "   macro avg       0.83      0.82      0.82      6473\n",
            "weighted avg       0.83      0.82      0.82      6473\n",
            "\n"
          ]
        }
      ],
      "source": [
        "from sklearn.metrics import classification_report\n",
        "print(classification_report(y_test_ad, y_test_pred))"
      ]
    },
    {
      "cell_type": "code",
      "execution_count": 44,
      "metadata": {},
      "outputs": [
        {
          "name": "stdout",
          "output_type": "stream",
          "text": [
            "Fitting 3 folds for each of 27 candidates, totalling 81 fits\n"
          ]
        }
      ],
      "source": [
        "tf.random.set_seed(7)\n",
        "\n",
        "def model_builder(nodes=16, activation='relu'):\n",
        "\n",
        "  model = Sequential()\n",
        "  model.add(Layer.Dense(nodes, input_dim=8, activation=activation))\n",
        "  model.add(Layer.Dense(nodes, activation=activation))\n",
        "  model.add(Layer.Dense(1, activation='sigmoid')) # 이진분류니까 노드수 1, 활성함수로는 시그모이드\n",
        "\n",
        "  model.compile(optimizer='adam',\n",
        "                loss='binary_crossentropy',\n",
        "                metrics=['accuracy'])\n",
        "\n",
        "  return model\n",
        "\n",
        "# keras.wrapper를 활용하여 분류기를 만듭니다\n",
        "model = KerasClassifier(model=model_builder, batch_size=8, verbose=0)\n",
        "\n",
        "# GridSearch\n",
        "batch_size=[64, 128, 256]\n",
        "epochs=[10, 20, 30]\n",
        "nodes=[64, 128, 256]\n",
        "activation=['sigmoid']\n",
        "param_grid=dict(batch_size=batch_size, epochs=epochs, model__nodes=nodes, model__activation=activation)\n",
        "\n",
        "\n",
        "# GridSearch CV를 만들기\n",
        "grid = GridSearchCV(estimator=model, param_grid=param_grid, cv=3, verbose=1, n_jobs=-1)\n",
        "grid_result = grid.fit(X_train_ad, y_train_ad)"
      ]
    },
    {
      "cell_type": "code",
      "execution_count": 45,
      "metadata": {},
      "outputs": [
        {
          "name": "stdout",
          "output_type": "stream",
          "text": [
            "Best: 0.8217855820547456 using {'batch_size': 64, 'epochs': 30, 'model__activation': 'sigmoid', 'model__nodes': 128}\n",
            "Means: 0.8077350634379722, Stdev: 0.0028509628889968803 with: {'batch_size': 64, 'epochs': 10, 'model__activation': 'sigmoid', 'model__nodes': 64}\n",
            "Means: 0.8085559765524217, Stdev: 0.00314377461445658 with: {'batch_size': 64, 'epochs': 10, 'model__activation': 'sigmoid', 'model__nodes': 128}\n",
            "Means: 0.8100041184840957, Stdev: 0.0034125776080563435 with: {'batch_size': 64, 'epochs': 10, 'model__activation': 'sigmoid', 'model__nodes': 256}\n",
            "Means: 0.8124669207755407, Stdev: 0.0024531191457031988 with: {'batch_size': 64, 'epochs': 20, 'model__activation': 'sigmoid', 'model__nodes': 64}\n",
            "Means: 0.8122738589650428, Stdev: 0.004632047771267354 with: {'batch_size': 64, 'epochs': 20, 'model__activation': 'sigmoid', 'model__nodes': 128}\n",
            "Means: 0.8134325515627437, Stdev: 0.004572679577153135 with: {'batch_size': 64, 'epochs': 20, 'model__activation': 'sigmoid', 'model__nodes': 256}\n",
            "Means: 0.8143500410449563, Stdev: 0.003566946172305327 with: {'batch_size': 64, 'epochs': 30, 'model__activation': 'sigmoid', 'model__nodes': 64}\n",
            "Means: 0.8217855820547456, Stdev: 0.0014999928725160246 with: {'batch_size': 64, 'epochs': 30, 'model__activation': 'sigmoid', 'model__nodes': 128}\n",
            "Means: 0.8195646403366812, Stdev: 0.0031408640388418756 with: {'batch_size': 64, 'epochs': 30, 'model__activation': 'sigmoid', 'model__nodes': 256}\n",
            "Means: 0.7992853936301115, Stdev: 0.0037874395053498844 with: {'batch_size': 128, 'epochs': 10, 'model__activation': 'sigmoid', 'model__nodes': 64}\n",
            "Means: 0.8033412443702721, Stdev: 0.0024513162700700512 with: {'batch_size': 128, 'epochs': 10, 'model__activation': 'sigmoid', 'model__nodes': 128}\n",
            "Means: 0.8029550298242484, Stdev: 0.0015650760498015924 with: {'batch_size': 128, 'epochs': 10, 'model__activation': 'sigmoid', 'model__nodes': 256}\n",
            "Means: 0.8095215793626934, Stdev: 0.0022505087277625265 with: {'batch_size': 128, 'epochs': 20, 'model__activation': 'sigmoid', 'model__nodes': 64}\n",
            "Means: 0.8131912155568303, Stdev: 0.002415558377716988 with: {'batch_size': 128, 'epochs': 20, 'model__activation': 'sigmoid', 'model__nodes': 128}\n",
            "Means: 0.813142724540195, Stdev: 0.0007873860605762848 with: {'batch_size': 128, 'epochs': 20, 'model__activation': 'sigmoid', 'model__nodes': 256}\n",
            "Means: 0.8143015989879513, Stdev: 0.0008232382974372548 with: {'batch_size': 128, 'epochs': 30, 'model__activation': 'sigmoid', 'model__nodes': 64}\n",
            "Means: 0.8139150976783792, Stdev: 0.003559978417140426 with: {'batch_size': 128, 'epochs': 30, 'model__activation': 'sigmoid', 'model__nodes': 128}\n",
            "Means: 0.807059315627181, Stdev: 0.0041306047916342655 with: {'batch_size': 128, 'epochs': 30, 'model__activation': 'sigmoid', 'model__nodes': 256}\n",
            "Means: 0.7790064196986247, Stdev: 0.0013860444534870085 with: {'batch_size': 256, 'epochs': 10, 'model__activation': 'sigmoid', 'model__nodes': 64}\n",
            "Means: 0.7887593878692137, Stdev: 0.003148460147190507 with: {'batch_size': 256, 'epochs': 10, 'model__activation': 'sigmoid', 'model__nodes': 128}\n",
            "Means: 0.7947470107627815, Stdev: 0.007778172961882363 with: {'batch_size': 256, 'epochs': 10, 'model__activation': 'sigmoid', 'model__nodes': 256}\n",
            "Means: 0.8021341446867303, Stdev: 0.0034349977844497902 with: {'batch_size': 256, 'epochs': 20, 'model__activation': 'sigmoid', 'model__nodes': 64}\n",
            "Means: 0.8059968986452283, Stdev: 0.002417845861965899 with: {'batch_size': 256, 'epochs': 20, 'model__activation': 'sigmoid', 'model__nodes': 128}\n",
            "Means: 0.8080249673970828, Stdev: 0.003920138943440297 with: {'batch_size': 256, 'epochs': 20, 'model__activation': 'sigmoid', 'model__nodes': 256}\n",
            "Means: 0.8072523005011171, Stdev: 0.0023687507761034473 with: {'batch_size': 256, 'epochs': 30, 'model__activation': 'sigmoid', 'model__nodes': 64}\n",
            "Means: 0.8111150894307797, Stdev: 0.0032648540507800154 with: {'batch_size': 256, 'epochs': 30, 'model__activation': 'sigmoid', 'model__nodes': 128}\n",
            "Means: 0.813577479062484, Stdev: 0.002268639383882349 with: {'batch_size': 256, 'epochs': 30, 'model__activation': 'sigmoid', 'model__nodes': 256}\n"
          ]
        }
      ],
      "source": [
        "print(f\"Best: {grid_result.best_score_} using {grid_result.best_params_}\")\n",
        "means = grid_result.cv_results_['mean_test_score']\n",
        "stds = grid_result.cv_results_['std_test_score']\n",
        "params = grid_result.cv_results_['params']\n",
        "for mean, stdev, param in zip(means, stds, params):\n",
        "    print(f\"Means: {mean}, Stdev: {stdev} with: {param}\")"
      ]
    },
    {
      "cell_type": "code",
      "execution_count": 47,
      "metadata": {},
      "outputs": [],
      "source": [
        "#ad(ADASYN 업샘플링 한 결과가 더 안좋음)"
      ]
    }
  ],
  "metadata": {
    "colab": {
      "gpuType": "T4",
      "provenance": []
    },
    "kernelspec": {
      "display_name": "Python 3",
      "name": "python3"
    },
    "language_info": {
      "codemirror_mode": {
        "name": "ipython",
        "version": 3
      },
      "file_extension": ".py",
      "mimetype": "text/x-python",
      "name": "python",
      "nbconvert_exporter": "python",
      "pygments_lexer": "ipython3",
      "version": "3.11.4"
    }
  },
  "nbformat": 4,
  "nbformat_minor": 0
}
