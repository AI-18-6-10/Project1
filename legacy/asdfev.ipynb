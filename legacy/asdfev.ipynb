{
 "cells": [
  {
   "cell_type": "code",
   "execution_count": 1,
   "metadata": {},
   "outputs": [],
   "source": [
    "import pandas as pd\n",
    "\n",
    "data = {\n",
    "    \"Species\": [\"Abalone\", \"Salmon\", \"Tuna\", \"Sardine\", \"Trout\"],\n",
    "    \"Length\": [0.455, 0.350, 0.530, 0.440, 0.330],\n",
    "    \"Weight\": [0.514, 0.225, 0.677, 0.516, 0.205],\n",
    "    \"Age\": [15, 7, 9, 10, 7]\n",
    "}\n",
    "\n",
    "df = pd.DataFrame(data)"
   ]
  },
  {
   "cell_type": "code",
   "execution_count": 5,
   "metadata": {},
   "outputs": [
    {
     "data": {
      "text/html": [
       "<style type=\"text/css\">\n",
       "#T_b5805_row0_col1 {\n",
       "  background-color: #358fc0;\n",
       "  color: #f1f1f1;\n",
       "}\n",
       "#T_b5805_row0_col2 {\n",
       "  background-color: #2a88bc;\n",
       "  color: #f1f1f1;\n",
       "}\n",
       "#T_b5805_row0_col3, #T_b5805_row2_col1, #T_b5805_row2_col2 {\n",
       "  background-color: #023858;\n",
       "  color: #f1f1f1;\n",
       "}\n",
       "#T_b5805_row1_col1 {\n",
       "  background-color: #f0eaf4;\n",
       "  color: #000000;\n",
       "}\n",
       "#T_b5805_row1_col2 {\n",
       "  background-color: #f9f2f8;\n",
       "  color: #000000;\n",
       "}\n",
       "#T_b5805_row1_col3, #T_b5805_row4_col1, #T_b5805_row4_col2, #T_b5805_row4_col3 {\n",
       "  background-color: #fff7fb;\n",
       "  color: #000000;\n",
       "}\n",
       "#T_b5805_row2_col3 {\n",
       "  background-color: #d0d1e6;\n",
       "  color: #000000;\n",
       "}\n",
       "#T_b5805_row3_col1 {\n",
       "  background-color: #5c9fc9;\n",
       "  color: #f1f1f1;\n",
       "}\n",
       "#T_b5805_row3_col2 {\n",
       "  background-color: #2987bc;\n",
       "  color: #f1f1f1;\n",
       "}\n",
       "#T_b5805_row3_col3 {\n",
       "  background-color: #a5bddb;\n",
       "  color: #000000;\n",
       "}\n",
       "</style>\n",
       "<table id=\"T_b5805\">\n",
       "  <thead>\n",
       "    <tr>\n",
       "      <th class=\"blank level0\" >&nbsp;</th>\n",
       "      <th id=\"T_b5805_level0_col0\" class=\"col_heading level0 col0\" >Species</th>\n",
       "      <th id=\"T_b5805_level0_col1\" class=\"col_heading level0 col1\" >Length</th>\n",
       "      <th id=\"T_b5805_level0_col2\" class=\"col_heading level0 col2\" >Weight</th>\n",
       "      <th id=\"T_b5805_level0_col3\" class=\"col_heading level0 col3\" >Age</th>\n",
       "    </tr>\n",
       "  </thead>\n",
       "  <tbody>\n",
       "    <tr>\n",
       "      <th id=\"T_b5805_level0_row0\" class=\"row_heading level0 row0\" >0</th>\n",
       "      <td id=\"T_b5805_row0_col0\" class=\"data row0 col0\" >Abalone</td>\n",
       "      <td id=\"T_b5805_row0_col1\" class=\"data row0 col1\" >0.455000</td>\n",
       "      <td id=\"T_b5805_row0_col2\" class=\"data row0 col2\" >0.514000</td>\n",
       "      <td id=\"T_b5805_row0_col3\" class=\"data row0 col3\" >15</td>\n",
       "    </tr>\n",
       "    <tr>\n",
       "      <th id=\"T_b5805_level0_row1\" class=\"row_heading level0 row1\" >1</th>\n",
       "      <td id=\"T_b5805_row1_col0\" class=\"data row1 col0\" >Salmon</td>\n",
       "      <td id=\"T_b5805_row1_col1\" class=\"data row1 col1\" >0.350000</td>\n",
       "      <td id=\"T_b5805_row1_col2\" class=\"data row1 col2\" >0.225000</td>\n",
       "      <td id=\"T_b5805_row1_col3\" class=\"data row1 col3\" >7</td>\n",
       "    </tr>\n",
       "    <tr>\n",
       "      <th id=\"T_b5805_level0_row2\" class=\"row_heading level0 row2\" >2</th>\n",
       "      <td id=\"T_b5805_row2_col0\" class=\"data row2 col0\" >Tuna</td>\n",
       "      <td id=\"T_b5805_row2_col1\" class=\"data row2 col1\" >0.530000</td>\n",
       "      <td id=\"T_b5805_row2_col2\" class=\"data row2 col2\" >0.677000</td>\n",
       "      <td id=\"T_b5805_row2_col3\" class=\"data row2 col3\" >9</td>\n",
       "    </tr>\n",
       "    <tr>\n",
       "      <th id=\"T_b5805_level0_row3\" class=\"row_heading level0 row3\" >3</th>\n",
       "      <td id=\"T_b5805_row3_col0\" class=\"data row3 col0\" >Sardine</td>\n",
       "      <td id=\"T_b5805_row3_col1\" class=\"data row3 col1\" >0.440000</td>\n",
       "      <td id=\"T_b5805_row3_col2\" class=\"data row3 col2\" >0.516000</td>\n",
       "      <td id=\"T_b5805_row3_col3\" class=\"data row3 col3\" >10</td>\n",
       "    </tr>\n",
       "    <tr>\n",
       "      <th id=\"T_b5805_level0_row4\" class=\"row_heading level0 row4\" >4</th>\n",
       "      <td id=\"T_b5805_row4_col0\" class=\"data row4 col0\" >Trout</td>\n",
       "      <td id=\"T_b5805_row4_col1\" class=\"data row4 col1\" >0.330000</td>\n",
       "      <td id=\"T_b5805_row4_col2\" class=\"data row4 col2\" >0.205000</td>\n",
       "      <td id=\"T_b5805_row4_col3\" class=\"data row4 col3\" >7</td>\n",
       "    </tr>\n",
       "  </tbody>\n",
       "</table>\n"
      ],
      "text/plain": [
       "<pandas.io.formats.style.Styler at 0x1075bad10>"
      ]
     },
     "execution_count": 5,
     "metadata": {},
     "output_type": "execute_result"
    }
   ],
   "source": [
    "df.style.background_gradient(axis=0)"
   ]
  }
 ],
 "metadata": {
  "kernelspec": {
   "display_name": "tp1",
   "language": "python",
   "name": "python3"
  },
  "language_info": {
   "codemirror_mode": {
    "name": "ipython",
    "version": 3
   },
   "file_extension": ".py",
   "mimetype": "text/x-python",
   "name": "python",
   "nbconvert_exporter": "python",
   "pygments_lexer": "ipython3",
   "version": "3.11.4"
  },
  "orig_nbformat": 4
 },
 "nbformat": 4,
 "nbformat_minor": 2
}
